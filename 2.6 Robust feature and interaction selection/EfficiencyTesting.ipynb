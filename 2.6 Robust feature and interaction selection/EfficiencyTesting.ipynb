{
 "cells": [
  {
   "cell_type": "code",
   "execution_count": 1,
   "metadata": {},
   "outputs": [],
   "source": [
    "from InteractionDetection import *\n",
    "from sklearn.linear_model import LinearRegression\n",
    "from Metrics import *\n",
    "from TimewiseKfold import *\n",
    "import numpy as np"
   ]
  },
  {
   "cell_type": "code",
   "execution_count": 2,
   "metadata": {},
   "outputs": [],
   "source": [
    "scaled_folds, PROVINCES_NUM = splitting_data(is_scaled=True, region=2)"
   ]
  },
  {
   "cell_type": "code",
   "execution_count": 3,
   "metadata": {},
   "outputs": [
    {
     "name": "stdout",
     "output_type": "stream",
     "text": [
      "2.093475160828057 1.1998343396018514\n"
     ]
    },
    {
     "data": {
      "text/html": [
       "<div>\n",
       "<style scoped>\n",
       "    .dataframe tbody tr th:only-of-type {\n",
       "        vertical-align: middle;\n",
       "    }\n",
       "\n",
       "    .dataframe tbody tr th {\n",
       "        vertical-align: top;\n",
       "    }\n",
       "\n",
       "    .dataframe thead th {\n",
       "        text-align: right;\n",
       "    }\n",
       "</style>\n",
       "<table border=\"1\" class=\"dataframe\">\n",
       "  <thead>\n",
       "    <tr style=\"text-align: right;\">\n",
       "      <th></th>\n",
       "      <th>Year</th>\n",
       "      <th>RMSE</th>\n",
       "      <th>R2_Score</th>\n",
       "      <th>MSE</th>\n",
       "      <th>MAE</th>\n",
       "      <th>RAE</th>\n",
       "      <th>RSE</th>\n",
       "    </tr>\n",
       "  </thead>\n",
       "  <tbody>\n",
       "    <tr>\n",
       "      <th>0</th>\n",
       "      <td>2018.0</td>\n",
       "      <td>1.243549</td>\n",
       "      <td>0.476394</td>\n",
       "      <td>1.546415</td>\n",
       "      <td>0.856808</td>\n",
       "      <td>0.597661</td>\n",
       "      <td>0.569677</td>\n",
       "    </tr>\n",
       "    <tr>\n",
       "      <th>1</th>\n",
       "      <td>2019.0</td>\n",
       "      <td>1.129843</td>\n",
       "      <td>0.197289</td>\n",
       "      <td>1.276546</td>\n",
       "      <td>0.927718</td>\n",
       "      <td>0.898089</td>\n",
       "      <td>0.806955</td>\n",
       "    </tr>\n",
       "    <tr>\n",
       "      <th>2</th>\n",
       "      <td>2020.0</td>\n",
       "      <td>5.939001</td>\n",
       "      <td>0.017396</td>\n",
       "      <td>35.271732</td>\n",
       "      <td>3.854420</td>\n",
       "      <td>1.037715</td>\n",
       "      <td>1.377431</td>\n",
       "    </tr>\n",
       "  </tbody>\n",
       "</table>\n",
       "</div>"
      ],
      "text/plain": [
       "     Year      RMSE  R2_Score        MSE       MAE       RAE       RSE\n",
       "0  2018.0  1.243549  0.476394   1.546415  0.856808  0.597661  0.569677\n",
       "1  2019.0  1.129843  0.197289   1.276546  0.927718  0.898089  0.806955\n",
       "2  2020.0  5.939001  0.017396  35.271732  3.854420  1.037715  1.377431"
      ]
     },
     "execution_count": 3,
     "metadata": {},
     "output_type": "execute_result"
    }
   ],
   "source": [
    "selected_features = ['Rdays_VII', 'Rdays_X', 'Srad_I', 'Srad_IX', 'Srad_X']\n",
    "\n",
    "#1st iteration\n",
    "selected_features += ['Eva_I', 'Rdays_III', 'Tmax_avg_IX', 'Tmin_II']\n",
    "\n",
    "#2st iteration\n",
    "selected_features += ['Eva_IV']\n",
    "\n",
    "#3rd iteration\n",
    "selected_features += ['Prcp_max_XII']\n",
    "\n",
    "#4th iteration\n",
    "selected_features += ['Prcp_X']\n",
    "\n",
    "alphas_res = [\n",
    "   np.array([0.5, 0.5, 0.5, 0.5, 0.5, 0.5, 0.5, 0. , 0.5, 0. , 0.5, 0.5]), \n",
    "   np.array([0.5, 0. , 0.5, 0.5, 0.5, 0.5, 0.5, 0. , 0.5, 0.5, 0.5, 0.5]), \n",
    "   np.array([0.5, 0. , 0.5, 0. , 0.5, 0.5, 0.5, 0.5, 0.5, 0.5, 0.5, 0.5]), \n",
    "   np.array([0.5, 0.5, 0.5, 0.5, 0. , 0.5, 0.5, 0.5, 0.5, 1. , 0.5, 0.5]), \n",
    "   np.array([0.5, 0.5, 0.5, 0.5, 0.5, 0.5, 0.5, 0.5, 1. , 0. , 0.5, 0.5]), \n",
    "   np.array([0. , 0.5, 0.5, 0.5, 0.5, 0.5, 0.5, 0.5, 0.5, 1. , 0.5, 0.5]), \n",
    "   np.array([0.5, 1. , 0.5, 0.5, 0.5, 0.5, 0. , 0.5, 0.5, 0.5, 0.5, 0.5]) \n",
    "]\n",
    "\n",
    "deltas_res = [\n",
    "   np.array([0., 0., 0., 0., 1., 0.]), \n",
    "   np.array([0., 0., 1., 0., 0., 0.]), \n",
    "   np.array([0., 0., 0., 1., 0., 0.]), \n",
    "   np.array([1., 0., 0., 0., 0., 0.]), \n",
    "   np.array([0., 0., 0., 0., 1., 0.]), \n",
    "   np.array([0., 0., 0., 0., 1., 0.]), \n",
    "   np.array([0., 1., 0., 0., 0., 0.])\n",
    "]\n",
    " \n",
    "transformed_folds = transform_data(scaled_folds=scaled_folds, selected_features=selected_features, alphas=alphas_res, deltas=deltas_res)\n",
    "\n",
    "rmse_train, rmse_validatioin = RMSE_FOLDS(transformed_folds=transformed_folds, PROVINCES_NUM=PROVINCES_NUM)\n",
    "\n",
    "print(rmse_train, rmse_validatioin)\n",
    "\n",
    "coef = []\n",
    "\n",
    "table = metrics_table()\n",
    "\n",
    "for (i, fold) in enumerate(transformed_folds):\n",
    "    X_train, X_test, y_train, y_test = split_train_test(fold=fold)\n",
    "    \n",
    "    linear_model = LinearRegression(n_jobs=-1).fit(X=X_train, y=y_train)\n",
    "    \n",
    "    row = [MAXIMUM_YEAR - FOLD_NUM + 1 + i]\n",
    "    \n",
    "    row += metrics_calculation(y_actual=y_test, y_pred=linear_model.predict(X_test), y_train=y_train)\n",
    "    \n",
    "    table.loc[len(table)] = row\n",
    "    \n",
    "    del linear_model\n",
    "    \n",
    "table"
   ]
  }
 ],
 "metadata": {
  "kernelspec": {
   "display_name": "base",
   "language": "python",
   "name": "python3"
  },
  "language_info": {
   "codemirror_mode": {
    "name": "ipython",
    "version": 3
   },
   "file_extension": ".py",
   "mimetype": "text/x-python",
   "name": "python",
   "nbconvert_exporter": "python",
   "pygments_lexer": "ipython3",
   "version": "3.11.5"
  }
 },
 "nbformat": 4,
 "nbformat_minor": 2
}
