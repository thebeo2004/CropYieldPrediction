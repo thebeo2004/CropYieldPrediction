{
 "cells": [
  {
   "cell_type": "code",
   "execution_count": 7,
   "metadata": {},
   "outputs": [],
   "source": [
    "from osgeo import ogr"
   ]
  },
  {
   "cell_type": "code",
   "execution_count": 8,
   "metadata": {},
   "outputs": [],
   "source": [
    "folder_in = \"Data\\Province LandCover Shape (2000 - 2020)\"\n",
    "folder_out = \"Data\\Province Rice Paddies (2000 - 2020)\"\n",
    "provinces = ['Long_An', 'Tien_Giang', 'Ben_Tre', 'Tra_Vinh', 'Dong_Thap', 'An_Giang', 'Kien_Giang', 'Can_Tho', 'Soc_Trang', 'Bac_Lieu', 'Ca_Mau']"
   ]
  },
  {
   "cell_type": "code",
   "execution_count": 9,
   "metadata": {},
   "outputs": [],
   "source": [
    "driver = ogr.GetDriverByName('ESRI Shapefile')"
   ]
  },
  {
   "cell_type": "code",
   "execution_count": 10,
   "metadata": {},
   "outputs": [],
   "source": [
    "def addFields(input_layer, output_layer):\n",
    "    ldefn = input_layer.GetLayerDefn() \n",
    "    for n in range(ldefn.GetFieldCount()):\n",
    "        output_layer.CreateField(ldefn.GetFieldDefn(n))"
   ]
  },
  {
   "cell_type": "code",
   "execution_count": 11,
   "metadata": {},
   "outputs": [],
   "source": [
    "def selectByAttributes(file_in, file_out):\n",
    "    input_ds = ogr.Open(file_in)\n",
    "    input_layer = input_ds.GetLayer()\n",
    "    proj = input_layer.GetSpatialRef()\n",
    "\n",
    "    output_ds = driver.CreateDataSource(file_out)\n",
    "    output_layer = output_ds.CreateLayer(file_out, proj, geom_type=ogr.wkbPolygon)\n",
    "\n",
    "    addFields(input_layer=input_layer, output_layer=output_layer)\n",
    "\n",
    "    for feature in input_layer:\n",
    "        if (feature.GetField('gridcode') == 3):\n",
    "            output_layer.CreateFeature(feature)"
   ]
  },
  {
   "cell_type": "code",
   "execution_count": 12,
   "metadata": {},
   "outputs": [],
   "source": [
    "for province in provinces:\n",
    "    for year in range(2000, 2021):\n",
    "        shapefile_in = folder_in + \"\\\\\" + province + \"\\\\\" + str(year) + \".shp\"  \n",
    "        shapefile_out = folder_out + \"\\\\\" + province + \"\\\\\" + str(year) + \".shp\" \n",
    "        selectByAttributes(file_in=shapefile_in, file_out=shapefile_out)\n",
    "        "
   ]
  }
 ],
 "metadata": {
  "kernelspec": {
   "display_name": "base",
   "language": "python",
   "name": "python3"
  },
  "language_info": {
   "codemirror_mode": {
    "name": "ipython",
    "version": 3
   },
   "file_extension": ".py",
   "mimetype": "text/x-python",
   "name": "python",
   "nbconvert_exporter": "python",
   "pygments_lexer": "ipython3",
   "version": "3.11.5"
  }
 },
 "nbformat": 4,
 "nbformat_minor": 2
}
