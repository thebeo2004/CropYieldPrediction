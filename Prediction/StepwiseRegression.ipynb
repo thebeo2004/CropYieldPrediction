{
 "cells": [
  {
   "cell_type": "code",
   "execution_count": 1,
   "metadata": {},
   "outputs": [],
   "source": [
    "from sklearn.feature_selection import SequentialFeatureSelector\n",
    "from sklearn.linear_model import LinearRegression\n",
    "from TimewiseKfold import splitting_data, split_train_test, FOLD_NUM\n",
    "from Metrics import metrics_calculation, metrics_table\n",
    "from sklearn.model_selection import TimeSeriesSplit, cross_val_score\n",
    "from sklearn.metrics import root_mean_squared_error\n",
    "import numpy as np"
   ]
  },
  {
   "cell_type": "code",
   "execution_count": 2,
   "metadata": {},
   "outputs": [],
   "source": [
    "folds = splitting_data()"
   ]
  },
  {
   "cell_type": "code",
   "execution_count": 3,
   "metadata": {},
   "outputs": [
    {
     "data": {
      "text/html": [
       "<div>\n",
       "<style scoped>\n",
       "    .dataframe tbody tr th:only-of-type {\n",
       "        vertical-align: middle;\n",
       "    }\n",
       "\n",
       "    .dataframe tbody tr th {\n",
       "        vertical-align: top;\n",
       "    }\n",
       "\n",
       "    .dataframe thead th {\n",
       "        text-align: right;\n",
       "    }\n",
       "</style>\n",
       "<table border=\"1\" class=\"dataframe\">\n",
       "  <thead>\n",
       "    <tr style=\"text-align: right;\">\n",
       "      <th></th>\n",
       "      <th>Year</th>\n",
       "      <th>RMSE</th>\n",
       "      <th>RRMSE (in %)</th>\n",
       "      <th>R2_Score</th>\n",
       "      <th>MSE</th>\n",
       "      <th>MAE</th>\n",
       "      <th>RAE</th>\n",
       "      <th>RSE</th>\n",
       "    </tr>\n",
       "  </thead>\n",
       "  <tbody>\n",
       "  </tbody>\n",
       "</table>\n",
       "</div>"
      ],
      "text/plain": [
       "Empty DataFrame\n",
       "Columns: [Year, RMSE, RRMSE (in %), R2_Score, MSE, MAE, RAE, RSE]\n",
       "Index: []"
      ]
     },
     "execution_count": 3,
     "metadata": {},
     "output_type": "execute_result"
    }
   ],
   "source": [
    "table = metrics_table()\n",
    "table"
   ]
  },
  {
   "cell_type": "code",
   "execution_count": 4,
   "metadata": {},
   "outputs": [],
   "source": [
    "tscv = TimeSeriesSplit(n_splits=2, test_size=7)"
   ]
  },
  {
   "cell_type": "code",
   "execution_count": 5,
   "metadata": {},
   "outputs": [],
   "source": [
    "def GridSearchCV_SFS(feature_num, X, y, selected_features):\n",
    "    \n",
    "    SFS = SequentialFeatureSelector(estimator=LinearRegression(), n_features_to_select=feature_num, cv=tscv, n_jobs=-1, scoring='r2')\n",
    "    SFS.fit(X, y)\n",
    "    \n",
    "    selected_features.append(SFS.support_)\n",
    "    \n",
    "    return SFS.transform(X)"
   ]
  },
  {
   "cell_type": "markdown",
   "metadata": {},
   "source": [
    "Due to the fact that it took so much time to execute below code to identify which features are most appropriate for each fold, it is no longer neccessary to re-execute. Instead, this code is being hide and answers from previous execution are recorded for calculating."
   ]
  },
  {
   "cell_type": "markdown",
   "metadata": {},
   "source": [
    "Fold 0:\n",
    "Selected features:\n",
    " [ True  True  True  True  True  True  True  True  True False  True  True\n",
    "  True False  True  True  True  True  True  True False False  True  True\n",
    "  True  True  True  True False  True  True  True False  True  True False\n",
    "  True  True  True  True  True  True  True  True False False  True  True\n",
    " False False  True  True False False False  True  True False  True  True\n",
    "  True False False  True False  True  True  True  True  True  True False\n",
    "  True False  True  True False  True  True  True  True  True  True False\n",
    "  True  True  True  True  True  True  True  True  True  True  True  True\n",
    "  True False  True  True False  True  True  True  True False  True  True\n",
    " False False False False  True  True  True False  True False  True  True\n",
    " False  True  True  True  True  True  True  True  True  True  True  True\n",
    "  True  True  True  True  True  True False  True False  True  True  True]\n"
   ]
  },
  {
   "cell_type": "markdown",
   "metadata": {},
   "source": [
    "Fold 1:\n",
    "Selected features:\n",
    " [ True  True  True  True  True False  True  True  True False  True False\n",
    "  True False False  True False  True False  True False False  True False\n",
    "  True False  True  True False  True  True  True False  True  True  True\n",
    "  True  True  True  True  True False  True  True  True  True  True  True\n",
    "  True  True  True False  True  True  True  True  True False  True  True\n",
    "  True  True  True  True  True  True  True  True  True  True  True  True\n",
    "  True  True  True False False  True  True  True  True  True  True  True\n",
    "  True  True  True  True  True  True False  True  True  True  True  True\n",
    "  True  True  True  True  True  True  True  True  True  True  True  True\n",
    "  True  True  True  True  True  True  True  True  True  True  True  True\n",
    "  True  True  True  True  True  True  True  True  True  True  True  True\n",
    "  True  True  True  True False  True False  True  True  True  True False]\n"
   ]
  },
  {
   "cell_type": "markdown",
   "metadata": {},
   "source": [
    "Fold 2:\n",
    "Selected features:\n",
    " [ True  True  True  True  True False  True  True  True False  True  True\n",
    "  True  True  True  True  True False  True  True False  True  True  True\n",
    "  True  True  True  True False  True  True  True False  True  True  True\n",
    "  True  True  True  True  True False  True  True  True  True  True  True\n",
    "  True  True  True  True False  True  True  True False  True  True False\n",
    "  True  True  True False False False False  True  True False  True False\n",
    "  True  True  True False  True  True  True  True  True  True  True False\n",
    "  True  True  True  True  True  True  True  True  True  True  True  True\n",
    "  True  True  True  True  True  True  True  True  True  True  True  True\n",
    "  True  True  True  True  True  True  True  True  True  True  True  True\n",
    "  True  True  True  True  True  True  True False  True  True  True  True\n",
    "  True  True  True  True  True  True  True  True  True  True  True  True]\n"
   ]
  },
  {
   "cell_type": "code",
   "execution_count": 6,
   "metadata": {},
   "outputs": [],
   "source": [
    "# for (i, fold) in enumerate(folds):\n",
    "    \n",
    "#     selected_features = []\n",
    "#     scores = []\n",
    "    \n",
    "#     X_train, X_test, y_train, y_test = split_train_test(fold=fold)\n",
    "    \n",
    "#     for feature_num in range(1, X_train.shape[1]):\n",
    "#         r2_score = cross_val_score(estimator=LinearRegression(), X=GridSearchCV_SFS(feature_num=feature_num, X=X_train, y=y_train, selected_features=selected_features), y=y_train, scoring='r2', cv=tscv, n_jobs=-1).mean()\n",
    "#         scores.append(r2_score)\n",
    "    \n",
    "#     print(f\"Fold {i}:\")\n",
    "#     print(\"Selected features:\\n\", selected_features[np.array(scores).argmin()])"
   ]
  },
  {
   "cell_type": "code",
   "execution_count": 7,
   "metadata": {},
   "outputs": [],
   "source": [
    "selected_features_set = []\n",
    "\n",
    "selected_features_set.append([ True, True, True, True, True, True, True, True, True, False, True, True, True, False, True, True, True, True, True, True, False, False, True, True, True, True, True, True, False, True, True, True, False, True, True, False, True, True, True, True, True, True, True, True, False, False, True, True, False, False, True, True, False, False, False, True, True, False, True, True, True, False, False, True, False, True, True, True, True, True, True, False, True, False, True, True, False, True, True, True, True, True, True, False, True, True, True, True, True, True, True, True, True, True, True, True, True, False, True, True, False, True, True, True, True, False, True, True, False, False, False, False, True, True, True, False, True, False, True, True, False, True, True, True, True, True, True, True, True, True, True, True, True, True, True, True, True, True, False, True, False, True, True, True])\n",
    "\n",
    "selected_features_set.append([ True, True, True, True, True, False, True, True, True, False, True, False, True, False, False, True, False, True, False, True, False, False, True, False, True, False, True, True, False, True, True, True, False, True, True, True, True, True, True, True, True, False, True, True, True, True, True, True, True, True, True, False, True, True, True, True, True, False, True, True, True, True, True, True, True, True, True, True, True, True, True, True, True, True, True, False, False, True, True, True, True, True, True, True, True, True, True, True, True, True, False, True, True, True, True, True, True, True, True, True, True, True, True, True, True, True, True, True, True, True, True, True, True, True, True, True, True, True, True, True, True, True, True, True, True, True, True, True, True, True, True, True, True, True, True, True, False, True, False, True, True, True, True, False])\n",
    "\n",
    "selected_features_set.append([ True, True, True, True, True, False, True, True, True, False, True, True, True, True, True, True, True, False, True, True, False, True, True, True, True, True, True, True, False, True, True, True, False, True, True, True, True, True, True, True, True, False, True, True, True, True, True, True, True, True, True, True, False, True, True, True, False, True, True, False, True, True, True, False, False, False, False, True, True, False, True, False, True, True, True, False, True, True, True, True, True, True, True, False, True, True, True, True, True, True, True, True, True, True, True, True, True, True, True, True, True, True, True, True, True, True, True, True, True, True, True, True, True, True, True, True, True, True, True, True, True, True, True, True, True, True, True, False, True, True, True, True, True, True, True, True, True, True, True, True, True, True, True, True])"
   ]
  },
  {
   "cell_type": "code",
   "execution_count": 8,
   "metadata": {},
   "outputs": [
    {
     "name": "stdout",
     "output_type": "stream",
     "text": [
      "110\n",
      "122\n",
      "125\n"
     ]
    }
   ],
   "source": [
    "for selected_features in selected_features_set:\n",
    "    print(np.array(selected_features).sum())"
   ]
  },
  {
   "cell_type": "code",
   "execution_count": 9,
   "metadata": {},
   "outputs": [],
   "source": [
    "for (i, fold) in enumerate(folds):\n",
    "    X_train, X_test, y_train, y_test = split_train_test(fold=fold)\n",
    "    \n",
    "    predictors = X_train.columns[selected_features_set[i]]\n",
    "    \n",
    "    X_train_reduced = X_train[predictors]\n",
    "    X_test_reduced = X_test[predictors]\n",
    "    \n",
    "    linear_model = LinearRegression(n_jobs=-1).fit(X=X_train_reduced, y=y_train)\n",
    "    \n",
    "    row = [2020 - FOLD_NUM + 1 + i]\n",
    "    \n",
    "    row += metrics_calculation(y_actual=y_test, y_pred=linear_model.predict(X_test_reduced), y_train=y_train)\n",
    "    \n",
    "    table.loc[len(table)] = row\n",
    "    \n",
    "    del linear_model"
   ]
  },
  {
   "cell_type": "code",
   "execution_count": 10,
   "metadata": {},
   "outputs": [
    {
     "data": {
      "text/html": [
       "<div>\n",
       "<style scoped>\n",
       "    .dataframe tbody tr th:only-of-type {\n",
       "        vertical-align: middle;\n",
       "    }\n",
       "\n",
       "    .dataframe tbody tr th {\n",
       "        vertical-align: top;\n",
       "    }\n",
       "\n",
       "    .dataframe thead th {\n",
       "        text-align: right;\n",
       "    }\n",
       "</style>\n",
       "<table border=\"1\" class=\"dataframe\">\n",
       "  <thead>\n",
       "    <tr style=\"text-align: right;\">\n",
       "      <th></th>\n",
       "      <th>Year</th>\n",
       "      <th>RMSE</th>\n",
       "      <th>RRMSE (in %)</th>\n",
       "      <th>R2_Score</th>\n",
       "      <th>MSE</th>\n",
       "      <th>MAE</th>\n",
       "      <th>RAE</th>\n",
       "      <th>RSE</th>\n",
       "    </tr>\n",
       "  </thead>\n",
       "  <tbody>\n",
       "    <tr>\n",
       "      <th>0</th>\n",
       "      <td>2018.0</td>\n",
       "      <td>5.362044</td>\n",
       "      <td>22.026210</td>\n",
       "      <td>-65.775099</td>\n",
       "      <td>28.751515</td>\n",
       "      <td>4.970358</td>\n",
       "      <td>9.590553</td>\n",
       "      <td>72.871444</td>\n",
       "    </tr>\n",
       "    <tr>\n",
       "      <th>1</th>\n",
       "      <td>2019.0</td>\n",
       "      <td>5.088076</td>\n",
       "      <td>17.119689</td>\n",
       "      <td>-23.256873</td>\n",
       "      <td>25.888521</td>\n",
       "      <td>3.572085</td>\n",
       "      <td>4.075357</td>\n",
       "      <td>24.615354</td>\n",
       "    </tr>\n",
       "    <tr>\n",
       "      <th>2</th>\n",
       "      <td>2020.0</td>\n",
       "      <td>23.655227</td>\n",
       "      <td>12.517772</td>\n",
       "      <td>-2211.400058</td>\n",
       "      <td>559.569775</td>\n",
       "      <td>23.302194</td>\n",
       "      <td>57.781098</td>\n",
       "      <td>2872.849202</td>\n",
       "    </tr>\n",
       "  </tbody>\n",
       "</table>\n",
       "</div>"
      ],
      "text/plain": [
       "     Year       RMSE  RRMSE (in %)     R2_Score         MSE        MAE  \\\n",
       "0  2018.0   5.362044     22.026210   -65.775099   28.751515   4.970358   \n",
       "1  2019.0   5.088076     17.119689   -23.256873   25.888521   3.572085   \n",
       "2  2020.0  23.655227     12.517772 -2211.400058  559.569775  23.302194   \n",
       "\n",
       "         RAE          RSE  \n",
       "0   9.590553    72.871444  \n",
       "1   4.075357    24.615354  \n",
       "2  57.781098  2872.849202  "
      ]
     },
     "execution_count": 10,
     "metadata": {},
     "output_type": "execute_result"
    }
   ],
   "source": [
    "table"
   ]
  }
 ],
 "metadata": {
  "kernelspec": {
   "display_name": "base",
   "language": "python",
   "name": "python3"
  },
  "language_info": {
   "codemirror_mode": {
    "name": "ipython",
    "version": 3
   },
   "file_extension": ".py",
   "mimetype": "text/x-python",
   "name": "python",
   "nbconvert_exporter": "python",
   "pygments_lexer": "ipython3",
   "version": "3.11.5"
  }
 },
 "nbformat": 4,
 "nbformat_minor": 2
}
