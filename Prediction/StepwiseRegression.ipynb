{
 "cells": [
  {
   "cell_type": "code",
   "execution_count": 1,
   "metadata": {},
   "outputs": [],
   "source": [
    "from sklearn.feature_selection import SequentialFeatureSelector\n",
    "from sklearn.linear_model import LinearRegression\n",
    "from TimewiseKfold import splitting_data, split_train_test, FOLD_NUM\n",
    "from Metrics import metrics_calculation, metrics_table\n",
    "from sklearn.model_selection import TimeSeriesSplit, cross_val_score\n",
    "from sklearn.metrics import root_mean_squared_error\n",
    "import numpy as np"
   ]
  },
  {
   "cell_type": "code",
   "execution_count": 2,
   "metadata": {},
   "outputs": [],
   "source": [
    "folds = splitting_data()"
   ]
  },
  {
   "cell_type": "code",
   "execution_count": 3,
   "metadata": {},
   "outputs": [
    {
     "data": {
      "text/html": [
       "<div>\n",
       "<style scoped>\n",
       "    .dataframe tbody tr th:only-of-type {\n",
       "        vertical-align: middle;\n",
       "    }\n",
       "\n",
       "    .dataframe tbody tr th {\n",
       "        vertical-align: top;\n",
       "    }\n",
       "\n",
       "    .dataframe thead th {\n",
       "        text-align: right;\n",
       "    }\n",
       "</style>\n",
       "<table border=\"1\" class=\"dataframe\">\n",
       "  <thead>\n",
       "    <tr style=\"text-align: right;\">\n",
       "      <th></th>\n",
       "      <th>Year</th>\n",
       "      <th>RMSE</th>\n",
       "      <th>R2_Score</th>\n",
       "      <th>MSE</th>\n",
       "      <th>MAE</th>\n",
       "      <th>RAE</th>\n",
       "      <th>RSE</th>\n",
       "    </tr>\n",
       "  </thead>\n",
       "  <tbody>\n",
       "  </tbody>\n",
       "</table>\n",
       "</div>"
      ],
      "text/plain": [
       "Empty DataFrame\n",
       "Columns: [Year, RMSE, R2_Score, MSE, MAE, RAE, RSE]\n",
       "Index: []"
      ]
     },
     "execution_count": 3,
     "metadata": {},
     "output_type": "execute_result"
    }
   ],
   "source": [
    "table = metrics_table()\n",
    "table"
   ]
  },
  {
   "cell_type": "code",
   "execution_count": 4,
   "metadata": {},
   "outputs": [],
   "source": [
    "tscv = TimeSeriesSplit(n_splits=2, test_size=7)"
   ]
  },
  {
   "cell_type": "code",
   "execution_count": 5,
   "metadata": {},
   "outputs": [],
   "source": [
    "def GridSearchCV_SFS(feature_num, X, y, selected_features):\n",
    "    \n",
    "    SFS = SequentialFeatureSelector(estimator=LinearRegression(), n_features_to_select=feature_num, cv=tscv, n_jobs=-1, scoring='r2')\n",
    "    SFS.fit(X, y)\n",
    "    \n",
    "    selected_features.append(SFS.support_)\n",
    "    \n",
    "    return SFS.transform(X)"
   ]
  },
  {
   "cell_type": "markdown",
   "metadata": {},
   "source": [
    "Due to the fact that it took so much time to execute below code to identify which features are most appropriate for each fold, it is no longer neccessary to re-execute. Instead, this code is being hide and answers from previous execution are recorded for calculating."
   ]
  },
  {
   "cell_type": "markdown",
   "metadata": {},
   "source": [
    "Fold 0:\n",
    "Selected features:\n",
    " [ True  True  True  True  True  True  True  True  True  True  True  True\n",
    "  True  True  True  True  True  True  True  True  True  True  True  True\n",
    "  True  True  True  True  True  True  True  True  True  True  True  True\n",
    "  True  True  True  True  True  True  True  True  True  True  True  True\n",
    "  True  True  True  True  True  True  True  True  True  True  True  True\n",
    "  True  True  True  True  True  True  True  True  True  True  True  True\n",
    "  True  True  True  True  True  True  True  True  True  True  True  True\n",
    "  True  True  True  True  True  True  True  True  True  True  True  True\n",
    "  True  True  True  True  True  True  True  True  True  True  True  True\n",
    "  True  True  True  True  True  True  True  True  True  True  True  True\n",
    "  True  True  True  True  True  True  True  True  True  True  True  True\n",
    "  True  True  True  True  True  True  True  True  True False  True  True]\n"
   ]
  },
  {
   "cell_type": "markdown",
   "metadata": {},
   "source": [
    "Fold 1:\n",
    "Selected features:\n",
    " [ True  True  True  True  True  True  True  True  True  True  True  True\n",
    "  True  True  True  True  True  True  True  True  True  True  True  True\n",
    "  True  True  True  True  True  True  True  True  True  True  True  True\n",
    "  True  True  True  True  True  True  True  True  True  True  True  True\n",
    "  True  True  True  True  True  True  True  True  True  True  True  True\n",
    "  True  True  True  True  True  True  True  True  True  True  True  True\n",
    "  True  True  True  True  True  True  True  True  True  True  True  True\n",
    "  True  True  True  True  True  True  True  True  True  True  True  True\n",
    "  True  True  True  True  True  True  True  True  True  True  True  True\n",
    "  True  True  True  True  True  True  True  True  True  True  True  True\n",
    "  True  True  True  True  True  True  True  True  True  True  True  True\n",
    "  True  True  True  True  True  True  True  True  True False  True  True]\n"
   ]
  },
  {
   "cell_type": "markdown",
   "metadata": {},
   "source": [
    "Fold 2:\n",
    "Selected features:\n",
    " [ True  True  True  True  True  True  True  True  True  True  True  True\n",
    "  True  True  True  True  True  True  True  True  True  True  True  True\n",
    "  True  True  True  True  True  True  True  True  True  True  True  True\n",
    "  True  True  True  True  True  True  True  True  True  True  True  True\n",
    "  True  True  True  True  True  True  True  True  True  True  True  True\n",
    "  True  True  True  True  True  True  True  True  True  True  True  True\n",
    "  True  True  True  True  True  True  True  True  True  True  True  True\n",
    "  True  True  True  True  True  True  True  True  True  True  True  True\n",
    "  True  True  True  True  True  True  True  True  True  True  True  True\n",
    "  True  True  True  True  True  True  True  True  True  True  True  True\n",
    "  True  True  True  True  True  True  True  True False  True  True  True\n",
    "  True  True  True  True  True  True  True  True  True  True  True  True]\n"
   ]
  },
  {
   "cell_type": "code",
   "execution_count": 6,
   "metadata": {},
   "outputs": [],
   "source": [
    "# for (i, fold) in enumerate(folds):\n",
    "    \n",
    "#     selected_features = []\n",
    "#     scores = []\n",
    "    \n",
    "#     X_train, X_test, y_train, y_test = split_train_test(fold=fold)\n",
    "    \n",
    "#     for feature_num in range(1, X_train.shape[1]):\n",
    "#         r2_score = cross_val_score(estimator=LinearRegression(), X=GridSearchCV_SFS(feature_num=feature_num, X=X_train, y=y_train, selected_features=selected_features), y=y_train, scoring='r2', cv=tscv, n_jobs=-1).mean()\n",
    "#         scores.append(r2_score)\n",
    "    \n",
    "#     print(f\"Fold {i}:\")\n",
    "#     print(\"Selected features:\\n\", selected_features[np.array(scores).argmin()])"
   ]
  },
  {
   "cell_type": "code",
   "execution_count": 7,
   "metadata": {},
   "outputs": [],
   "source": [
    "selected_features_set = []\n",
    "\n",
    "selected_features_set.append([True, True, True, True, True, True, True, True, True, True, True, True, True, True, True, True, True, True, True, True, True, True, True, True, True, True, True, True, True, True, True, True, True, True, True, True, True, True, True, True, True, True, True, True, True, True, True, True, True, True, True, True, True, True, True, True, True, True, True, True, True, True, True, True, True, True, True, True, True, True, True, True, True, True, True, True, True, True, True, True, True, True, True, True, True, True, True, True, True, True, True, True, True, True, True, True, True, True, True, True, True, True, True, True, True, True, True, True, True, True, True, True, True, True, True, True, True, True, True, True, True, True, True, True, True, True, True, True, True, True, True, True, True, True, True, True, True, True, True, True, True, False, True, True])\n",
    "selected_features_set.append([True, True, True, True, True, True, True, True, True, True, True, True, True, True, True, True, True, True, True, True, True, True, True, True, True, True, True, True, True, True, True, True, True, True, True, True, True, True, True, True, True, True, True, True, True, True, True, True, True, True, True, True, True, True, True, True, True, True, True, True, True, True, True, True, True, True, True, True, True, True, True, True, True, True, True, True, True, True, True, True, True, True, True, True, True, True, True, True, True, True, True, True, True, True, True, True, True, True, True, True, True, True, True, True, True, True, True, True, True, True, True, True, True, True, True, True, True, True, True, True, True, True, True, True, True, True, True, True, True, True, True, True, True, True, True, True, True, True, True, True, True, False, True, True])\n",
    "selected_features_set.append([True, True, True, True, True, True, True, True, True, True, True, True, True, True, True, True, True, True, True, True, True, True, True, True, True, True, True, True, True, True, True, True, True, True, True, True, True, True, True, True, True, True, True, True, True, True, True, True, True, True, True, True, True, True, True, True, True, True, True, True, True, True, True, True, True, True, True, True, True, True, True, True, True, True, True, True, True, True, True, True, True, True, True, True, True, True, True, True, True, True, True, True, True, True, True, True, True, True, True, True, True, True, True, True, True, True, True, True, True, True, True, True, True, True, True, True, True, True, True, True, True, True, True, True, True, True, True, True, False, True, True, True, True, True, True, True, True, True, True, True, True, True, True, True])"
   ]
  },
  {
   "cell_type": "code",
   "execution_count": 8,
   "metadata": {},
   "outputs": [
    {
     "name": "stdout",
     "output_type": "stream",
     "text": [
      "143\n",
      "143\n",
      "143\n"
     ]
    }
   ],
   "source": [
    "for selected_features in selected_features_set:\n",
    "    print(np.array(selected_features).sum())"
   ]
  },
  {
   "cell_type": "code",
   "execution_count": 9,
   "metadata": {},
   "outputs": [],
   "source": [
    "for (i, fold) in enumerate(folds):\n",
    "    X_train, X_test, y_train, y_test = split_train_test(fold=fold)\n",
    "    \n",
    "    predictors = X_train.columns[selected_features_set[i]]\n",
    "    \n",
    "    X_train_reduced = X_train[predictors]\n",
    "    X_test_reduced = X_test[predictors]\n",
    "    \n",
    "    linear_model = LinearRegression(n_jobs=-1).fit(X=X_train_reduced, y=y_train)\n",
    "    \n",
    "    row = [2020 - FOLD_NUM + 1 + i]\n",
    "    \n",
    "    row += metrics_calculation(y_actual=y_test, y_pred=linear_model.predict(X_test_reduced), y_train=y_train)\n",
    "    \n",
    "    table.loc[len(table)] = row\n",
    "    \n",
    "    del linear_model"
   ]
  },
  {
   "cell_type": "code",
   "execution_count": 10,
   "metadata": {},
   "outputs": [
    {
     "data": {
      "text/html": [
       "<div>\n",
       "<style scoped>\n",
       "    .dataframe tbody tr th:only-of-type {\n",
       "        vertical-align: middle;\n",
       "    }\n",
       "\n",
       "    .dataframe tbody tr th {\n",
       "        vertical-align: top;\n",
       "    }\n",
       "\n",
       "    .dataframe thead th {\n",
       "        text-align: right;\n",
       "    }\n",
       "</style>\n",
       "<table border=\"1\" class=\"dataframe\">\n",
       "  <thead>\n",
       "    <tr style=\"text-align: right;\">\n",
       "      <th></th>\n",
       "      <th>Year</th>\n",
       "      <th>RMSE</th>\n",
       "      <th>R2_Score</th>\n",
       "      <th>MSE</th>\n",
       "      <th>MAE</th>\n",
       "      <th>RAE</th>\n",
       "      <th>RSE</th>\n",
       "    </tr>\n",
       "  </thead>\n",
       "  <tbody>\n",
       "    <tr>\n",
       "      <th>0</th>\n",
       "      <td>2018.0</td>\n",
       "      <td>2.224091</td>\n",
       "      <td>-0.507638</td>\n",
       "      <td>4.946582</td>\n",
       "      <td>1.647056</td>\n",
       "      <td>1.499163</td>\n",
       "      <td>1.987389</td>\n",
       "    </tr>\n",
       "    <tr>\n",
       "      <th>1</th>\n",
       "      <td>2019.0</td>\n",
       "      <td>1.863274</td>\n",
       "      <td>-0.245557</td>\n",
       "      <td>3.471789</td>\n",
       "      <td>1.300823</td>\n",
       "      <td>1.317477</td>\n",
       "      <td>1.294771</td>\n",
       "    </tr>\n",
       "    <tr>\n",
       "      <th>2</th>\n",
       "      <td>2020.0</td>\n",
       "      <td>4.002597</td>\n",
       "      <td>-0.566851</td>\n",
       "      <td>16.020784</td>\n",
       "      <td>3.358214</td>\n",
       "      <td>1.673138</td>\n",
       "      <td>1.661444</td>\n",
       "    </tr>\n",
       "  </tbody>\n",
       "</table>\n",
       "</div>"
      ],
      "text/plain": [
       "     Year      RMSE  R2_Score        MSE       MAE       RAE       RSE\n",
       "0  2018.0  2.224091 -0.507638   4.946582  1.647056  1.499163  1.987389\n",
       "1  2019.0  1.863274 -0.245557   3.471789  1.300823  1.317477  1.294771\n",
       "2  2020.0  4.002597 -0.566851  16.020784  3.358214  1.673138  1.661444"
      ]
     },
     "execution_count": 10,
     "metadata": {},
     "output_type": "execute_result"
    }
   ],
   "source": [
    "table"
   ]
  }
 ],
 "metadata": {
  "kernelspec": {
   "display_name": "base",
   "language": "python",
   "name": "python3"
  },
  "language_info": {
   "codemirror_mode": {
    "name": "ipython",
    "version": 3
   },
   "file_extension": ".py",
   "mimetype": "text/x-python",
   "name": "python",
   "nbconvert_exporter": "python",
   "pygments_lexer": "ipython3",
   "version": "3.11.5"
  }
 },
 "nbformat": 4,
 "nbformat_minor": 2
}
