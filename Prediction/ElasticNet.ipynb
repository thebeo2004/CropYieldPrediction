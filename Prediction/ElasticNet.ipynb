{
 "cells": [
  {
   "cell_type": "code",
   "execution_count": 1,
   "metadata": {},
   "outputs": [],
   "source": [
    "from sklearn.linear_model import ElasticNet, ElasticNetCV\n",
    "from TimewiseKfold import splitting_data, split_train_test, FOLD_NUM, MAXIMUM_YEAR\n",
    "from Metrics import metrics_calculation, metrics_table\n",
    "from sklearn.model_selection import TimeSeriesSplit\n",
    "from sklearn.metrics import root_mean_squared_error"
   ]
  },
  {
   "cell_type": "code",
   "execution_count": 2,
   "metadata": {},
   "outputs": [],
   "source": [
    "folds, PROVINCES_NUM = splitting_data(is_scaled=True,region=2)"
   ]
  },
  {
   "cell_type": "code",
   "execution_count": 3,
   "metadata": {},
   "outputs": [
    {
     "data": {
      "text/html": [
       "<div>\n",
       "<style scoped>\n",
       "    .dataframe tbody tr th:only-of-type {\n",
       "        vertical-align: middle;\n",
       "    }\n",
       "\n",
       "    .dataframe tbody tr th {\n",
       "        vertical-align: top;\n",
       "    }\n",
       "\n",
       "    .dataframe thead th {\n",
       "        text-align: right;\n",
       "    }\n",
       "</style>\n",
       "<table border=\"1\" class=\"dataframe\">\n",
       "  <thead>\n",
       "    <tr style=\"text-align: right;\">\n",
       "      <th></th>\n",
       "      <th>Year</th>\n",
       "      <th>RMSE</th>\n",
       "      <th>R2_Score</th>\n",
       "      <th>MSE</th>\n",
       "      <th>MAE</th>\n",
       "      <th>RAE</th>\n",
       "      <th>RSE</th>\n",
       "    </tr>\n",
       "  </thead>\n",
       "  <tbody>\n",
       "  </tbody>\n",
       "</table>\n",
       "</div>"
      ],
      "text/plain": [
       "Empty DataFrame\n",
       "Columns: [Year, RMSE, R2_Score, MSE, MAE, RAE, RSE]\n",
       "Index: []"
      ]
     },
     "execution_count": 3,
     "metadata": {},
     "output_type": "execute_result"
    }
   ],
   "source": [
    "table = metrics_table()\n",
    "table"
   ]
  },
  {
   "cell_type": "code",
   "execution_count": 4,
   "metadata": {},
   "outputs": [
    {
     "name": "stderr",
     "output_type": "stream",
     "text": [
      "c:\\Application\\Anaconda\\Lib\\site-packages\\sklearn\\linear_model\\_coordinate_descent.py:1623: DataConversionWarning: A column-vector y was passed when a 1d array was expected. Please change the shape of y to (n_samples, ), for example using ravel().\n",
      "  y = column_or_1d(y, warn=True)\n"
     ]
    },
    {
     "name": "stdout",
     "output_type": "stream",
     "text": [
      "[ 0.  0.  0.  0.  0.  0.  0. -0.  0. -0. -0.  0.  0. -0. -0. -0. -0.  0.\n",
      " -0.  0. -0. -0. -0. -0.  0.  0.  0.  0. -0. -0.  0.  0.  0. -0. -0.  0.\n",
      "  0. -0. -0. -0. -0.  0. -0.  0. -0. -0. -0.  0. -0.  0.  0.  0.  0. -0.\n",
      "  0.  0.  0. -0. -0. -0. -0.  0.  0.  0.  0. -0.  0.  0.  0. -0. -0.  0.\n",
      " -0. -0.  0. -0.  0. -0.  0. -0.  0. -0. -0.  0.  0.  0.  0. -0. -0. -0.\n",
      "  0.  0.  0. -0.  0. -0.  0.  0.  0.  0.  0. -0.  0.  0.  0. -0.  0. -0.\n",
      " -0. -0. -0.  0. -0.  0. -0. -0. -0. -0.  0. -0. -0. -0. -0. -0. -0. -0.\n",
      " -0.  0. -0. -0.  0.  0. -0.  0.  0.  0.  0. -0. -0.  0. -0.  0.  0.  0.]\n"
     ]
    },
    {
     "name": "stderr",
     "output_type": "stream",
     "text": [
      "c:\\Application\\Anaconda\\Lib\\site-packages\\sklearn\\linear_model\\_coordinate_descent.py:1623: DataConversionWarning: A column-vector y was passed when a 1d array was expected. Please change the shape of y to (n_samples, ), for example using ravel().\n",
      "  y = column_or_1d(y, warn=True)\n"
     ]
    },
    {
     "name": "stdout",
     "output_type": "stream",
     "text": [
      "[ 0.          0.          0.          0.80674371 -0.          0.\n",
      "  0.3433002   0.          0.         -0.         -0.          0.\n",
      "  0.          0.1174366   0.          0.         -0.          0.\n",
      "  0.20527772  0.         -0.          0.         -0.06224245  0.\n",
      " -0.          0.51084069  1.38043949  0.01911771 -3.30211422 -0.\n",
      "  0.48801444  0.56116156  0.60190536 -0.96354064 -0.          0.\n",
      "  0.73532402 -0.44687158  0.         -0.         -0.          0.10232358\n",
      " -1.51756362 -0.         -0.         -2.1508134  -0.3707956   0.\n",
      " -0.         -0.         -0.         -0.         -0.         -0.56242523\n",
      "  0.         -0.02200306  0.         -0.3175116  -0.1216951  -0.\n",
      " -0.         -0.         -0.          0.          0.          0.\n",
      "  0.         -0.          0.         -0.         -0.2662731   0.79176073\n",
      " -0.         -0.05415719 -0.         -0.         -0.         -0.\n",
      " -0.         -1.22533651  0.         -0.92700958 -0.          0.27507216\n",
      "  0.         -0.         -0.         -0.         -0.10702301 -1.19403873\n",
      " -0.          0.          0.         -0.          0.32055661 -0.\n",
      "  1.1977205   0.82244126  1.63294464 -0.10100115 -0.         -0.24159089\n",
      " -0.         -0.11314593  1.39926504 -1.76519212  0.          0.\n",
      " -0.          0.          0.          0.         -0.         -0.\n",
      " -0.85208491  0.          0.         -0.         -0.         -0.\n",
      " -0.          0.          0.          0.          0.         -0.\n",
      "  0.          0.         -0.         -0.04603369 -0.         -0.60613448\n",
      " -0.98527802  0.         -0.          0.          0.          0.31128986\n",
      " -0.          0.         -1.71833168  1.6418416  -0.10027744  0.47044464]\n"
     ]
    },
    {
     "name": "stderr",
     "output_type": "stream",
     "text": [
      "c:\\Application\\Anaconda\\Lib\\site-packages\\sklearn\\linear_model\\_coordinate_descent.py:1623: DataConversionWarning: A column-vector y was passed when a 1d array was expected. Please change the shape of y to (n_samples, ), for example using ravel().\n",
      "  y = column_or_1d(y, warn=True)\n"
     ]
    },
    {
     "name": "stdout",
     "output_type": "stream",
     "text": [
      "[ 0.          0.          0.          0.          0.          0.\n",
      "  0.          0.          0.         -0.         -0.          0.\n",
      "  0.         -0.          0.         -0.         -0.          0.\n",
      " -0.          0.         -0.         -0.         -0.         -0.\n",
      "  0.          0.          0.          0.         -0.          0.\n",
      "  0.          0.          0.         -0.         -0.          0.\n",
      "  0.         -0.         -0.         -0.         -0.          0.\n",
      " -0.84019564  0.         -0.         -2.11690232 -0.          0.\n",
      " -0.          0.          0.          0.          0.         -0.\n",
      "  0.          0.          0.         -0.         -0.         -0.\n",
      " -0.          0.          0.          0.          0.         -0.\n",
      "  0.          0.          0.         -0.         -0.          0.\n",
      " -0.         -0.         -0.         -0.          0.         -0.\n",
      "  0.         -0.          0.         -0.         -0.          0.\n",
      "  0.          0.          0.          0.         -0.         -0.\n",
      "  0.          0.          0.         -0.          0.          0.\n",
      "  0.          0.          0.          0.          0.         -0.\n",
      " -0.          0.          0.         -0.          0.          0.\n",
      " -0.         -0.         -0.          0.         -0.          0.\n",
      " -0.          0.         -0.         -0.          0.         -0.\n",
      " -0.          0.         -0.          0.         -0.         -0.\n",
      " -0.          0.         -0.         -0.          0.          0.\n",
      " -0.74684341  0.          0.          0.          0.         -0.\n",
      " -0.          0.         -0.58083924  0.49898506  0.          0.        ]\n",
      "['Rdays_VII', 'Rdays_X', 'Srad_I', 'Srad_IX', 'Srad_X']\n"
     ]
    }
   ],
   "source": [
    "tscv = TimeSeriesSplit(n_splits=2, test_size=PROVINCES_NUM)\n",
    "\n",
    "OwO = []\n",
    "\n",
    "for (i, fold) in enumerate(folds):\n",
    "    X_train, X_test, y_train, y_test = split_train_test(fold=fold)\n",
    "    \n",
    "    elastic_cv = ElasticNetCV(l1_ratio=[0.1, 0.2, 0.3, 0.5, 0.75, 0.9, 0.99, 1], cv=tscv, max_iter=20000, n_jobs=-1)\n",
    "    elastic_cv.fit(X_train, y_train)\n",
    "    \n",
    "    OwO.append(elastic_cv.coef_)\n",
    "    print(elastic_cv.coef_)\n",
    "    \n",
    "    row = [MAXIMUM_YEAR - FOLD_NUM + 1 + i]\n",
    "    \n",
    "    row += metrics_calculation(y_actual=y_test, y_pred=elastic_cv.predict(X_test), y_train=y_train)\n",
    "    \n",
    "    table.loc[len(table)] = row\n",
    "    \n",
    "    del elastic_cv\n",
    "\n",
    "X_train, X_test, y_train, y_test = split_train_test(fold=folds[0])\n",
    "\n",
    "selected_features = []\n",
    "for (i, factor) in enumerate(X_train.columns):\n",
    "    if (OwO[2][i] != 0):\n",
    "        selected_features.append(factor)\n",
    "    \n",
    "print(selected_features)\n",
    "        "
   ]
  },
  {
   "cell_type": "code",
   "execution_count": 5,
   "metadata": {},
   "outputs": [
    {
     "data": {
      "text/html": [
       "<div>\n",
       "<style scoped>\n",
       "    .dataframe tbody tr th:only-of-type {\n",
       "        vertical-align: middle;\n",
       "    }\n",
       "\n",
       "    .dataframe tbody tr th {\n",
       "        vertical-align: top;\n",
       "    }\n",
       "\n",
       "    .dataframe thead th {\n",
       "        text-align: right;\n",
       "    }\n",
       "</style>\n",
       "<table border=\"1\" class=\"dataframe\">\n",
       "  <thead>\n",
       "    <tr style=\"text-align: right;\">\n",
       "      <th></th>\n",
       "      <th>Year</th>\n",
       "      <th>RMSE</th>\n",
       "      <th>R2_Score</th>\n",
       "      <th>MSE</th>\n",
       "      <th>MAE</th>\n",
       "      <th>RAE</th>\n",
       "      <th>RSE</th>\n",
       "    </tr>\n",
       "  </thead>\n",
       "  <tbody>\n",
       "    <tr>\n",
       "      <th>0</th>\n",
       "      <td>2018.0</td>\n",
       "      <td>1.718545</td>\n",
       "      <td>0.000000</td>\n",
       "      <td>2.953397</td>\n",
       "      <td>1.348036</td>\n",
       "      <td>0.940315</td>\n",
       "      <td>1.087989</td>\n",
       "    </tr>\n",
       "    <tr>\n",
       "      <th>1</th>\n",
       "      <td>2019.0</td>\n",
       "      <td>1.750192</td>\n",
       "      <td>-0.926170</td>\n",
       "      <td>3.063174</td>\n",
       "      <td>1.554376</td>\n",
       "      <td>1.504732</td>\n",
       "      <td>1.936353</td>\n",
       "    </tr>\n",
       "    <tr>\n",
       "      <th>2</th>\n",
       "      <td>2020.0</td>\n",
       "      <td>5.702741</td>\n",
       "      <td>0.094019</td>\n",
       "      <td>32.521253</td>\n",
       "      <td>3.462315</td>\n",
       "      <td>0.932150</td>\n",
       "      <td>1.270020</td>\n",
       "    </tr>\n",
       "  </tbody>\n",
       "</table>\n",
       "</div>"
      ],
      "text/plain": [
       "     Year      RMSE  R2_Score        MSE       MAE       RAE       RSE\n",
       "0  2018.0  1.718545  0.000000   2.953397  1.348036  0.940315  1.087989\n",
       "1  2019.0  1.750192 -0.926170   3.063174  1.554376  1.504732  1.936353\n",
       "2  2020.0  5.702741  0.094019  32.521253  3.462315  0.932150  1.270020"
      ]
     },
     "execution_count": 5,
     "metadata": {},
     "output_type": "execute_result"
    }
   ],
   "source": [
    "table"
   ]
  }
 ],
 "metadata": {
  "kernelspec": {
   "display_name": "base",
   "language": "python",
   "name": "python3"
  },
  "language_info": {
   "codemirror_mode": {
    "name": "ipython",
    "version": 3
   },
   "file_extension": ".py",
   "mimetype": "text/x-python",
   "name": "python",
   "nbconvert_exporter": "python",
   "pygments_lexer": "ipython3",
   "version": "3.11.5"
  }
 },
 "nbformat": 4,
 "nbformat_minor": 2
}
