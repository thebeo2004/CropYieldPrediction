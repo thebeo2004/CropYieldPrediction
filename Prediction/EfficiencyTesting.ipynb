{
 "cells": [
  {
   "cell_type": "code",
   "execution_count": 2,
   "metadata": {},
   "outputs": [],
   "source": [
    "from InteractionDetection import *\n",
    "from sklearn.linear_model import LinearRegression\n",
    "from Metrics import *\n",
    "from TimewiseKfold import *\n",
    "import numpy as np"
   ]
  },
  {
   "cell_type": "code",
   "execution_count": 3,
   "metadata": {},
   "outputs": [],
   "source": [
    "scaled_folds, PROVINCES_NUM = splitting_data(is_scaled=True, region=2)"
   ]
  },
  {
   "cell_type": "code",
   "execution_count": 18,
   "metadata": {},
   "outputs": [
    {
     "name": "stdout",
     "output_type": "stream",
     "text": [
      "Tmax_avg_IX Eva_IV 0.22542275\n",
      "Rdays_X Tmax_avg_IX 19.97290719\n",
      "Rdays_X Srad_IX -1.15140017\n",
      "Srad_X Eva_IV -5.17811202\n",
      "Tmin_II Eva_IV 0.17753217\n",
      "Rdays_VII Eva_IV -0.25629687\n",
      "Rdays_X Rdays_III -0.69383557\n"
     ]
    }
   ],
   "source": [
    "selected_features = ['Rdays_VII', 'Rdays_X', 'Srad_I', 'Srad_IX', 'Srad_X']\n",
    "\n",
    "#1st iteration\n",
    "selected_features += ['Eva_I', 'Rdays_III', 'Tmax_avg_IX', 'Tmin_II']\n",
    "\n",
    "#2st iteration\n",
    "selected_features += ['Eva_IV']\n",
    "\n",
    "#3rd iteration\n",
    "selected_features += ['Prcp_max_XII']\n",
    "\n",
    "#4th iteration\n",
    "selected_features += ['Prcp_X']\n",
    "\n",
    "coefs = [-2.20414717, -9.79981796, -1.40394979, -1.99214848, -0.0558246 ,\n",
    "        -0.53806973, -1.29472508,  1.06818365,  3.43466945,  4.57856107,\n",
    "         1.51546732,  1.18043713,  0.22542275, 19.97290719, -1.15140017,\n",
    "        -5.17811202,  0.17753217, -0.25629687, -0.69383557]\n",
    "\n",
    "# for i in range(len(selected_features)):\n",
    "#    print(selected_features[i], coefs[i])\n",
    "\n",
    "alphas_res = [\n",
    "   np.array([0.5, 0.5, 0.5, 0.5, 0.5, 0.5, 0.5, 0. , 0.5, 0. , 0.5, 0.5]), \n",
    "   np.array([0.5, 0. , 0.5, 0.5, 0.5, 0.5, 0.5, 0. , 0.5, 0.5, 0.5, 0.5]), \n",
    "   np.array([0.5, 0. , 0.5, 0. , 0.5, 0.5, 0.5, 0.5, 0.5, 0.5, 0.5, 0.5]), \n",
    "   np.array([0.5, 0.5, 0.5, 0.5, 0. , 0.5, 0.5, 0.5, 0.5, 1. , 0.5, 0.5]), \n",
    "   np.array([0.5, 0.5, 0.5, 0.5, 0.5, 0.5, 0.5, 0.5, 1. , 0. , 0.5, 0.5]), \n",
    "   np.array([0. , 0.5, 0.5, 0.5, 0.5, 0.5, 0.5, 0.5, 0.5, 1. , 0.5, 0.5]), \n",
    "   np.array([0.5, 1. , 0.5, 0.5, 0.5, 0.5, 0. , 0.5, 0.5, 0.5, 0.5, 0.5]) \n",
    "]\n",
    "\n",
    "for (order, alpha) in enumerate(alphas_res):\n",
    "   for i in range(0, len(alpha)):\n",
    "      if (alpha[i] != 0.5):\n",
    "         print(selected_features[i], end=' ')\n",
    "   print(coefs[12 + order])\n",
    "      \n",
    "   # print()"
   ]
  },
  {
   "cell_type": "code",
   "execution_count": 13,
   "metadata": {},
   "outputs": [
    {
     "name": "stdout",
     "output_type": "stream",
     "text": [
      "2.093475160828057 1.1998343396018514\n"
     ]
    },
    {
     "data": {
      "text/plain": [
       "array([[-2.20414717, -9.79981796, -1.40394979, -1.99214848, -0.0558246 ,\n",
       "        -0.53806973, -1.29472508,  1.06818365,  3.43466945,  4.57856107,\n",
       "         1.51546732,  1.18043713,  0.22542275, 19.97290719, -1.15140017,\n",
       "        -5.17811202,  0.17753217, -0.25629687, -0.69383557]])"
      ]
     },
     "execution_count": 13,
     "metadata": {},
     "output_type": "execute_result"
    }
   ],
   "source": [
    "selected_features = ['Rdays_VII', 'Rdays_X', 'Srad_I', 'Srad_IX', 'Srad_X']\n",
    "\n",
    "#1st iteration\n",
    "selected_features += ['Eva_I', 'Rdays_III', 'Tmax_avg_IX', 'Tmin_II']\n",
    "\n",
    "#2st iteration\n",
    "selected_features += ['Eva_IV']\n",
    "\n",
    "#3rd iteration\n",
    "selected_features += ['Prcp_max_XII']\n",
    "\n",
    "#4th iteration\n",
    "selected_features += ['Prcp_X']\n",
    "\n",
    "alphas_res = [\n",
    "   np.array([0.5, 0.5, 0.5, 0.5, 0.5, 0.5, 0.5, 0. , 0.5, 0. , 0.5, 0.5]), \n",
    "   np.array([0.5, 0. , 0.5, 0.5, 0.5, 0.5, 0.5, 0. , 0.5, 0.5, 0.5, 0.5]), \n",
    "   np.array([0.5, 0. , 0.5, 0. , 0.5, 0.5, 0.5, 0.5, 0.5, 0.5, 0.5, 0.5]), \n",
    "   np.array([0.5, 0.5, 0.5, 0.5, 0. , 0.5, 0.5, 0.5, 0.5, 1. , 0.5, 0.5]), \n",
    "   np.array([0.5, 0.5, 0.5, 0.5, 0.5, 0.5, 0.5, 0.5, 1. , 0. , 0.5, 0.5]), \n",
    "   np.array([0. , 0.5, 0.5, 0.5, 0.5, 0.5, 0.5, 0.5, 0.5, 1. , 0.5, 0.5]), \n",
    "   np.array([0.5, 1. , 0.5, 0.5, 0.5, 0.5, 0. , 0.5, 0.5, 0.5, 0.5, 0.5]) \n",
    "]\n",
    "\n",
    "deltas_res = [\n",
    "   np.array([0., 0., 0., 0., 1., 0.]), \n",
    "   np.array([0., 0., 1., 0., 0., 0.]), \n",
    "   np.array([0., 0., 0., 1., 0., 0.]), \n",
    "   np.array([1., 0., 0., 0., 0., 0.]), \n",
    "   np.array([0., 0., 0., 0., 1., 0.]), \n",
    "   np.array([0., 0., 0., 0., 1., 0.]), \n",
    "   np.array([0., 1., 0., 0., 0., 0.])\n",
    "]\n",
    "\n",
    "\n",
    "# heuristic_interaction_detection(scaled_folds=scaled_folds, selected_features=selected_features, K=6, alphas_res=alphas_res, deltas_res=deltas_res, M=2, PROVINCES_NUM=PROVINCES_NUM)\n",
    " \n",
    "transformed_folds = transform_data(scaled_folds=scaled_folds, selected_features=selected_features, alphas=alphas_res, deltas=deltas_res)\n",
    "\n",
    "rmse_train, rmse_validatioin = RMSE_FOLDS(transformed_folds=transformed_folds, PROVINCES_NUM=PROVINCES_NUM)\n",
    "\n",
    "print(rmse_train, rmse_validatioin)\n",
    "\n",
    "coef = []\n",
    "\n",
    "table = metrics_table()\n",
    "\n",
    "for (i, fold) in enumerate(transformed_folds):\n",
    "    X_train, X_test, y_train, y_test = split_train_test(fold=fold)\n",
    "   #  X_train, X_validation, y_train, y_validation = split_train_validation(X=X_train, y=y_train, PROVINCES_NUM=PROVINCES_NUM)\n",
    "    \n",
    "    \n",
    "    linear_model = LinearRegression(n_jobs=-1).fit(X=X_train, y=y_train)\n",
    "    \n",
    "   #  print(np.sqrt(mean_squared_error(y_true=y_test, y_pred=linear_model.predict(X_test))))\n",
    "    \n",
    "    row = [MAXIMUM_YEAR - FOLD_NUM + 1 + i]\n",
    "    \n",
    "    row += metrics_calculation(y_actual=y_test, y_pred=linear_model.predict(X_test), y_train=y_train)\n",
    "    \n",
    "    table.loc[len(table)] = row\n",
    "    \n",
    "    if (i == 2):\n",
    "       coef = linear_model.coef_\n",
    "    \n",
    "    del linear_model\n",
    "    \n",
    "table\n",
    "coef"
   ]
  }
 ],
 "metadata": {
  "kernelspec": {
   "display_name": "base",
   "language": "python",
   "name": "python3"
  },
  "language_info": {
   "codemirror_mode": {
    "name": "ipython",
    "version": 3
   },
   "file_extension": ".py",
   "mimetype": "text/x-python",
   "name": "python",
   "nbconvert_exporter": "python",
   "pygments_lexer": "ipython3",
   "version": "3.11.5"
  }
 },
 "nbformat": 4,
 "nbformat_minor": 2
}
