{
 "cells": [
  {
   "cell_type": "code",
   "execution_count": 1,
   "metadata": {},
   "outputs": [],
   "source": [
    "from sklearn.linear_model import LinearRegression\n",
    "from TimewiseKfold import splitting_data, split_train_test, FOLD_NUM, MAXIMUM_YEAR\n",
    "from Metrics import metrics_calculation, metrics_table"
   ]
  },
  {
   "cell_type": "code",
   "execution_count": 2,
   "metadata": {},
   "outputs": [],
   "source": [
    "scaled_folds = splitting_data(is_scaled=True, region=2)"
   ]
  },
  {
   "cell_type": "code",
   "execution_count": 3,
   "metadata": {},
   "outputs": [],
   "source": [
    "table = metrics_table()\n",
    "for (i, fold) in enumerate(scaled_folds):\n",
    "    X_train, X_test, y_train, y_test = split_train_test(fold=fold)\n",
    "    \n",
    "    linear_model = LinearRegression(n_jobs=-1).fit(X=X_train, y=y_train)\n",
    "    \n",
    "    row = [MAXIMUM_YEAR - FOLD_NUM + 1 + i]\n",
    "    \n",
    "    row += metrics_calculation(y_actual=y_test, y_pred=linear_model.predict(X_test), y_train=y_train)\n",
    "    \n",
    "    table.loc[len(table)] = row\n",
    "    \n",
    "    del linear_model"
   ]
  },
  {
   "cell_type": "code",
   "execution_count": 4,
   "metadata": {},
   "outputs": [
    {
     "data": {
      "text/html": [
       "<div>\n",
       "<style scoped>\n",
       "    .dataframe tbody tr th:only-of-type {\n",
       "        vertical-align: middle;\n",
       "    }\n",
       "\n",
       "    .dataframe tbody tr th {\n",
       "        vertical-align: top;\n",
       "    }\n",
       "\n",
       "    .dataframe thead th {\n",
       "        text-align: right;\n",
       "    }\n",
       "</style>\n",
       "<table border=\"1\" class=\"dataframe\">\n",
       "  <thead>\n",
       "    <tr style=\"text-align: right;\">\n",
       "      <th></th>\n",
       "      <th>Year</th>\n",
       "      <th>RMSE</th>\n",
       "      <th>R2_Score</th>\n",
       "      <th>MSE</th>\n",
       "      <th>MAE</th>\n",
       "      <th>RAE</th>\n",
       "      <th>RSE</th>\n",
       "    </tr>\n",
       "  </thead>\n",
       "  <tbody>\n",
       "    <tr>\n",
       "      <th>0</th>\n",
       "      <td>2018.0</td>\n",
       "      <td>7.703781</td>\n",
       "      <td>-19.094910</td>\n",
       "      <td>59.348246</td>\n",
       "      <td>5.197222</td>\n",
       "      <td>3.625291</td>\n",
       "      <td>21.863043</td>\n",
       "    </tr>\n",
       "    <tr>\n",
       "      <th>1</th>\n",
       "      <td>2019.0</td>\n",
       "      <td>6.010734</td>\n",
       "      <td>-21.718417</td>\n",
       "      <td>36.128924</td>\n",
       "      <td>4.442931</td>\n",
       "      <td>4.301035</td>\n",
       "      <td>22.838514</td>\n",
       "    </tr>\n",
       "    <tr>\n",
       "      <th>2</th>\n",
       "      <td>2020.0</td>\n",
       "      <td>6.914800</td>\n",
       "      <td>-0.332021</td>\n",
       "      <td>47.814454</td>\n",
       "      <td>5.053375</td>\n",
       "      <td>1.360507</td>\n",
       "      <td>1.867249</td>\n",
       "    </tr>\n",
       "  </tbody>\n",
       "</table>\n",
       "</div>"
      ],
      "text/plain": [
       "     Year      RMSE   R2_Score        MSE       MAE       RAE        RSE\n",
       "0  2018.0  7.703781 -19.094910  59.348246  5.197222  3.625291  21.863043\n",
       "1  2019.0  6.010734 -21.718417  36.128924  4.442931  4.301035  22.838514\n",
       "2  2020.0  6.914800  -0.332021  47.814454  5.053375  1.360507   1.867249"
      ]
     },
     "execution_count": 4,
     "metadata": {},
     "output_type": "execute_result"
    }
   ],
   "source": [
    "table"
   ]
  }
 ],
 "metadata": {
  "kernelspec": {
   "display_name": "base",
   "language": "python",
   "name": "python3"
  },
  "language_info": {
   "codemirror_mode": {
    "name": "ipython",
    "version": 3
   },
   "file_extension": ".py",
   "mimetype": "text/x-python",
   "name": "python",
   "nbconvert_exporter": "python",
   "pygments_lexer": "ipython3",
   "version": "3.11.5"
  }
 },
 "nbformat": 4,
 "nbformat_minor": 2
}
