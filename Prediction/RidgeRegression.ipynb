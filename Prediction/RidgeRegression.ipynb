{
 "cells": [
  {
   "cell_type": "code",
   "execution_count": 1,
   "metadata": {},
   "outputs": [],
   "source": [
    "from sklearn.linear_model import Ridge, RidgeCV\n",
    "from TimewiseKfold import splitting_data, split_train_test, FOLD_NUM, PROVINCES_NUM\n",
    "from Metrics import metrics_calculation, metrics_table\n",
    "from sklearn.model_selection import TimeSeriesSplit\n",
    "from sklearn.metrics import root_mean_squared_error"
   ]
  },
  {
   "cell_type": "code",
   "execution_count": 2,
   "metadata": {},
   "outputs": [],
   "source": [
    "folds = splitting_data()"
   ]
  },
  {
   "cell_type": "code",
   "execution_count": 3,
   "metadata": {},
   "outputs": [
    {
     "data": {
      "text/html": [
       "<div>\n",
       "<style scoped>\n",
       "    .dataframe tbody tr th:only-of-type {\n",
       "        vertical-align: middle;\n",
       "    }\n",
       "\n",
       "    .dataframe tbody tr th {\n",
       "        vertical-align: top;\n",
       "    }\n",
       "\n",
       "    .dataframe thead th {\n",
       "        text-align: right;\n",
       "    }\n",
       "</style>\n",
       "<table border=\"1\" class=\"dataframe\">\n",
       "  <thead>\n",
       "    <tr style=\"text-align: right;\">\n",
       "      <th></th>\n",
       "      <th>Year</th>\n",
       "      <th>RMSE</th>\n",
       "      <th>RRMSE (in %)</th>\n",
       "      <th>R2_Score</th>\n",
       "      <th>MSE</th>\n",
       "      <th>MAE</th>\n",
       "      <th>RAE</th>\n",
       "      <th>RSE</th>\n",
       "    </tr>\n",
       "  </thead>\n",
       "  <tbody>\n",
       "  </tbody>\n",
       "</table>\n",
       "</div>"
      ],
      "text/plain": [
       "Empty DataFrame\n",
       "Columns: [Year, RMSE, RRMSE (in %), R2_Score, MSE, MAE, RAE, RSE]\n",
       "Index: []"
      ]
     },
     "execution_count": 3,
     "metadata": {},
     "output_type": "execute_result"
    }
   ],
   "source": [
    "table = metrics_table()\n",
    "table"
   ]
  },
  {
   "cell_type": "code",
   "execution_count": 4,
   "metadata": {},
   "outputs": [],
   "source": [
    "tscv = TimeSeriesSplit(n_splits=2, test_size=PROVINCES_NUM)\n",
    "\n",
    "for (i, fold) in enumerate(folds):\n",
    "    X_train, X_test, y_train, y_test = split_train_test(fold=fold)\n",
    "    \n",
    "    ridge_cv = RidgeCV(alphas=[0.1, 1, 2, 5, 9, 10, 20, 50, 100], cv=tscv)\n",
    "    ridge_cv.fit(X_train, y_train)\n",
    "    \n",
    "    row = [2020 - FOLD_NUM + 1 + i]\n",
    "    \n",
    "    row += metrics_calculation(y_actual=y_test, y_pred=ridge_cv.predict(X_test), y_train=y_train)\n",
    "    \n",
    "    table.loc[len(table)] = row\n",
    "    \n",
    "    del ridge_cv"
   ]
  },
  {
   "cell_type": "code",
   "execution_count": 5,
   "metadata": {},
   "outputs": [
    {
     "data": {
      "text/html": [
       "<div>\n",
       "<style scoped>\n",
       "    .dataframe tbody tr th:only-of-type {\n",
       "        vertical-align: middle;\n",
       "    }\n",
       "\n",
       "    .dataframe tbody tr th {\n",
       "        vertical-align: top;\n",
       "    }\n",
       "\n",
       "    .dataframe thead th {\n",
       "        text-align: right;\n",
       "    }\n",
       "</style>\n",
       "<table border=\"1\" class=\"dataframe\">\n",
       "  <thead>\n",
       "    <tr style=\"text-align: right;\">\n",
       "      <th></th>\n",
       "      <th>Year</th>\n",
       "      <th>RMSE</th>\n",
       "      <th>RRMSE (in %)</th>\n",
       "      <th>R2_Score</th>\n",
       "      <th>MSE</th>\n",
       "      <th>MAE</th>\n",
       "      <th>RAE</th>\n",
       "      <th>RSE</th>\n",
       "    </tr>\n",
       "  </thead>\n",
       "  <tbody>\n",
       "    <tr>\n",
       "      <th>0</th>\n",
       "      <td>2018.0</td>\n",
       "      <td>2.111388</td>\n",
       "      <td>250.665898</td>\n",
       "      <td>-0.358713</td>\n",
       "      <td>4.457959</td>\n",
       "      <td>1.668478</td>\n",
       "      <td>1.518661</td>\n",
       "      <td>1.791075</td>\n",
       "    </tr>\n",
       "    <tr>\n",
       "      <th>1</th>\n",
       "      <td>2019.0</td>\n",
       "      <td>1.744562</td>\n",
       "      <td>409.513067</td>\n",
       "      <td>-0.091900</td>\n",
       "      <td>3.043497</td>\n",
       "      <td>1.266543</td>\n",
       "      <td>1.282759</td>\n",
       "      <td>1.135044</td>\n",
       "    </tr>\n",
       "    <tr>\n",
       "      <th>2</th>\n",
       "      <td>2020.0</td>\n",
       "      <td>3.618953</td>\n",
       "      <td>-934.680819</td>\n",
       "      <td>-0.280884</td>\n",
       "      <td>13.096823</td>\n",
       "      <td>2.871365</td>\n",
       "      <td>1.430579</td>\n",
       "      <td>1.358213</td>\n",
       "    </tr>\n",
       "  </tbody>\n",
       "</table>\n",
       "</div>"
      ],
      "text/plain": [
       "     Year      RMSE  RRMSE (in %)  R2_Score        MSE       MAE       RAE  \\\n",
       "0  2018.0  2.111388    250.665898 -0.358713   4.457959  1.668478  1.518661   \n",
       "1  2019.0  1.744562    409.513067 -0.091900   3.043497  1.266543  1.282759   \n",
       "2  2020.0  3.618953   -934.680819 -0.280884  13.096823  2.871365  1.430579   \n",
       "\n",
       "        RSE  \n",
       "0  1.791075  \n",
       "1  1.135044  \n",
       "2  1.358213  "
      ]
     },
     "execution_count": 5,
     "metadata": {},
     "output_type": "execute_result"
    }
   ],
   "source": [
    "table"
   ]
  }
 ],
 "metadata": {
  "kernelspec": {
   "display_name": "base",
   "language": "python",
   "name": "python3"
  },
  "language_info": {
   "codemirror_mode": {
    "name": "ipython",
    "version": 3
   },
   "file_extension": ".py",
   "mimetype": "text/x-python",
   "name": "python",
   "nbconvert_exporter": "python",
   "pygments_lexer": "ipython3",
   "version": "3.11.5"
  }
 },
 "nbformat": 4,
 "nbformat_minor": 2
}
