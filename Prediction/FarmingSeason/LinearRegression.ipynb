{
 "cells": [
  {
   "cell_type": "code",
   "execution_count": 1,
   "metadata": {},
   "outputs": [],
   "source": [
    "from sklearn.linear_model import LinearRegression\n",
    "from SplittingData import splitting_data\n",
    "from Metrics import metrics_calculation, metrics_table"
   ]
  },
  {
   "cell_type": "code",
   "execution_count": 2,
   "metadata": {},
   "outputs": [],
   "source": [
    "X_train, y_train, test_set = splitting_data()"
   ]
  },
  {
   "cell_type": "code",
   "execution_count": 3,
   "metadata": {},
   "outputs": [],
   "source": [
    "linear_model = LinearRegression(n_jobs=-1).fit(X_train, y_train)"
   ]
  },
  {
   "cell_type": "code",
   "execution_count": 7,
   "metadata": {},
   "outputs": [
    {
     "data": {
      "text/html": [
       "<div>\n",
       "<style scoped>\n",
       "    .dataframe tbody tr th:only-of-type {\n",
       "        vertical-align: middle;\n",
       "    }\n",
       "\n",
       "    .dataframe tbody tr th {\n",
       "        vertical-align: top;\n",
       "    }\n",
       "\n",
       "    .dataframe thead th {\n",
       "        text-align: right;\n",
       "    }\n",
       "</style>\n",
       "<table border=\"1\" class=\"dataframe\">\n",
       "  <thead>\n",
       "    <tr style=\"text-align: right;\">\n",
       "      <th></th>\n",
       "      <th>Year</th>\n",
       "      <th>RMSE</th>\n",
       "      <th>RRMSE</th>\n",
       "      <th>R2_Score</th>\n",
       "      <th>MSE</th>\n",
       "      <th>MAE</th>\n",
       "      <th>RAE</th>\n",
       "      <th>RSE</th>\n",
       "    </tr>\n",
       "  </thead>\n",
       "  <tbody>\n",
       "    <tr>\n",
       "      <th>0</th>\n",
       "      <td>2017.0</td>\n",
       "      <td>15.099457</td>\n",
       "      <td>39.587753</td>\n",
       "      <td>-73.356417</td>\n",
       "      <td>227.993589</td>\n",
       "      <td>14.399584</td>\n",
       "      <td>8.922222</td>\n",
       "      <td>74.356417</td>\n",
       "    </tr>\n",
       "    <tr>\n",
       "      <th>1</th>\n",
       "      <td>2018.0</td>\n",
       "      <td>9.161027</td>\n",
       "      <td>11.650790</td>\n",
       "      <td>-28.882170</td>\n",
       "      <td>83.924424</td>\n",
       "      <td>8.016830</td>\n",
       "      <td>6.367906</td>\n",
       "      <td>29.882170</td>\n",
       "    </tr>\n",
       "    <tr>\n",
       "      <th>2</th>\n",
       "      <td>2019.0</td>\n",
       "      <td>7.116778</td>\n",
       "      <td>10.351627</td>\n",
       "      <td>-70.785594</td>\n",
       "      <td>50.648528</td>\n",
       "      <td>6.089650</td>\n",
       "      <td>8.950268</td>\n",
       "      <td>71.785594</td>\n",
       "    </tr>\n",
       "    <tr>\n",
       "      <th>3</th>\n",
       "      <td>2020.0</td>\n",
       "      <td>9.980082</td>\n",
       "      <td>15.963661</td>\n",
       "      <td>-25.636495</td>\n",
       "      <td>99.602042</td>\n",
       "      <td>7.875162</td>\n",
       "      <td>4.530501</td>\n",
       "      <td>26.636495</td>\n",
       "    </tr>\n",
       "  </tbody>\n",
       "</table>\n",
       "</div>"
      ],
      "text/plain": [
       "     Year       RMSE      RRMSE  ...        MAE       RAE        RSE\n",
       "0  2017.0  15.099457  39.587753  ...  14.399584  8.922222  74.356417\n",
       "1  2018.0   9.161027  11.650790  ...   8.016830  6.367906  29.882170\n",
       "2  2019.0   7.116778  10.351627  ...   6.089650  8.950268  71.785594\n",
       "3  2020.0   9.980082  15.963661  ...   7.875162  4.530501  26.636495\n",
       "\n",
       "[4 rows x 8 columns]"
      ]
     },
     "execution_count": 7,
     "metadata": {},
     "output_type": "execute_result"
    }
   ],
   "source": [
    "table = metrics_table()\n",
    "\n",
    "table"
   ]
  }
 ],
 "metadata": {
  "kernelspec": {
   "display_name": "base",
   "language": "python",
   "name": "python3"
  },
  "language_info": {
   "codemirror_mode": {
    "name": "ipython",
    "version": 3
   },
   "file_extension": ".py",
   "mimetype": "text/x-python",
   "name": "python",
   "nbconvert_exporter": "python",
   "pygments_lexer": "ipython3",
   "version": "3.10.13"
  }
 },
 "nbformat": 4,
 "nbformat_minor": 2
}
