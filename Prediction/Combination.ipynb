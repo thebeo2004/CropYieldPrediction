{
 "cells": [
  {
   "cell_type": "code",
   "execution_count": 1,
   "metadata": {},
   "outputs": [],
   "source": [
    "from Metrics import *\n",
    "from TimewiseKfold import *\n",
    "from InteractionDetection import *\n",
    "from sklearn import linear_model\n",
    "import numpy as np"
   ]
  },
  {
   "cell_type": "code",
   "execution_count": 2,
   "metadata": {},
   "outputs": [],
   "source": [
    "scaled_folds, PROVINCES_NUM = splitting_data(is_scaled=True, region=2)\n",
    "ndvi_folds, PROVINCES_NUM = splitting_data(is_NDVI=True, region=2)"
   ]
  },
  {
   "cell_type": "code",
   "execution_count": 3,
   "metadata": {},
   "outputs": [],
   "source": [
    "selected_features = ['Rdays_VII', 'Rdays_X', 'Srad_I', 'Srad_IX', 'Srad_X']\n",
    "\n",
    "#1st iteration\n",
    "selected_features += ['Eva_I', 'Rdays_III', 'Tmax_avg_IX', 'Tmin_II']\n",
    "\n",
    "#2st iteration\n",
    "selected_features += ['Eva_IV']\n",
    "\n",
    "#3rd iteration\n",
    "selected_features += ['Prcp_max_XII']\n",
    "\n",
    "#4th iteration\n",
    "selected_features += ['Prcp_X']\n",
    "\n",
    "alphas_res = [\n",
    "   np.array([0.5, 0.5, 0.5, 0.5, 0.5, 0.5, 0.5, 0. , 0.5, 0. , 0.5, 0.5]), \n",
    "   np.array([0.5, 0. , 0.5, 0.5, 0.5, 0.5, 0.5, 0. , 0.5, 0.5, 0.5, 0.5]), \n",
    "   np.array([0.5, 0. , 0.5, 0. , 0.5, 0.5, 0.5, 0.5, 0.5, 0.5, 0.5, 0.5]), \n",
    "   np.array([0.5, 0.5, 0.5, 0.5, 0. , 0.5, 0.5, 0.5, 0.5, 1. , 0.5, 0.5]), \n",
    "   np.array([0.5, 0.5, 0.5, 0.5, 0.5, 0.5, 0.5, 0.5, 1. , 0. , 0.5, 0.5]), \n",
    "   np.array([0. , 0.5, 0.5, 0.5, 0.5, 0.5, 0.5, 0.5, 0.5, 1. , 0.5, 0.5]), \n",
    "   np.array([0.5, 1. , 0.5, 0.5, 0.5, 0.5, 0. , 0.5, 0.5, 0.5, 0.5, 0.5]) \n",
    "]\n",
    "deltas_res = [\n",
    "   np.array([0., 0., 0., 0., 1., 0.]), \n",
    "   np.array([0., 0., 1., 0., 0., 0.]), \n",
    "   np.array([0., 0., 0., 1., 0., 0.]), \n",
    "   np.array([1., 0., 0., 0., 0., 0.]), \n",
    "   np.array([0., 0., 0., 0., 1., 0.]), \n",
    "   np.array([0., 0., 0., 0., 1., 0.]), \n",
    "   np.array([0., 1., 0., 0., 0., 0.])\n",
    "]\n",
    "\n",
    "transformed_folds = transform_data(scaled_folds=scaled_folds, selected_features=selected_features, alphas=alphas_res, deltas=deltas_res)"
   ]
  },
  {
   "cell_type": "code",
   "execution_count": 4,
   "metadata": {},
   "outputs": [],
   "source": [
    "selected_ndvi = ['NDVI_I', 'NDVI_II', 'NDVI_III', 'NDVI_IV', 'NDVI_V', 'NDVI_VI', 'NDVI_VII', 'NDVI_VIII', 'NDVI_IX', 'NDVI_X', 'NDVI_XI', 'NDVI_XII']\n",
    "# selected_ndvi = ['NDVI_V', 'NDVI_X']"
   ]
  },
  {
   "cell_type": "code",
   "execution_count": 5,
   "metadata": {},
   "outputs": [],
   "source": [
    "def combine_ndvi(X_train, X_test, order):\n",
    "    ndvi_train, ndvi_test, y_train, y_test = split_train_test(fold=ndvi_folds[order])\n",
    "    \n",
    "    ndvi_train_reduced = ndvi_train[selected_ndvi].to_numpy()\n",
    "    ndvi_test_reduced = ndvi_test[selected_ndvi].to_numpy()\n",
    "    \n",
    "    for i in range(0, len(X_train)):\n",
    "        X_train[i] += list(ndvi_train_reduced[i])\n",
    "    \n",
    "    for i in range(0, len(X_test)):\n",
    "        X_test[i] += list(ndvi_test_reduced[i])\n",
    "        \n",
    "    return X_train, X_test\n"
   ]
  },
  {
   "cell_type": "code",
   "execution_count": 6,
   "metadata": {},
   "outputs": [
    {
     "data": {
      "text/html": [
       "<div>\n",
       "<style scoped>\n",
       "    .dataframe tbody tr th:only-of-type {\n",
       "        vertical-align: middle;\n",
       "    }\n",
       "\n",
       "    .dataframe tbody tr th {\n",
       "        vertical-align: top;\n",
       "    }\n",
       "\n",
       "    .dataframe thead th {\n",
       "        text-align: right;\n",
       "    }\n",
       "</style>\n",
       "<table border=\"1\" class=\"dataframe\">\n",
       "  <thead>\n",
       "    <tr style=\"text-align: right;\">\n",
       "      <th></th>\n",
       "      <th>Year</th>\n",
       "      <th>RMSE</th>\n",
       "      <th>R2_Score</th>\n",
       "      <th>MSE</th>\n",
       "      <th>MAE</th>\n",
       "      <th>RAE</th>\n",
       "      <th>RSE</th>\n",
       "    </tr>\n",
       "  </thead>\n",
       "  <tbody>\n",
       "    <tr>\n",
       "      <th>0</th>\n",
       "      <td>2018.0</td>\n",
       "      <td>1.206565</td>\n",
       "      <td>0.507076</td>\n",
       "      <td>1.455799</td>\n",
       "      <td>0.863518</td>\n",
       "      <td>0.602341</td>\n",
       "      <td>0.536295</td>\n",
       "    </tr>\n",
       "    <tr>\n",
       "      <th>1</th>\n",
       "      <td>2019.0</td>\n",
       "      <td>0.925768</td>\n",
       "      <td>0.461076</td>\n",
       "      <td>0.857046</td>\n",
       "      <td>0.781602</td>\n",
       "      <td>0.756639</td>\n",
       "      <td>0.541772</td>\n",
       "    </tr>\n",
       "    <tr>\n",
       "      <th>2</th>\n",
       "      <td>2020.0</td>\n",
       "      <td>5.719031</td>\n",
       "      <td>0.088835</td>\n",
       "      <td>32.707319</td>\n",
       "      <td>3.830478</td>\n",
       "      <td>1.031269</td>\n",
       "      <td>1.277286</td>\n",
       "    </tr>\n",
       "  </tbody>\n",
       "</table>\n",
       "</div>"
      ],
      "text/plain": [
       "     Year      RMSE  R2_Score        MSE       MAE       RAE       RSE\n",
       "0  2018.0  1.206565  0.507076   1.455799  0.863518  0.602341  0.536295\n",
       "1  2019.0  0.925768  0.461076   0.857046  0.781602  0.756639  0.541772\n",
       "2  2020.0  5.719031  0.088835  32.707319  3.830478  1.031269  1.277286"
      ]
     },
     "execution_count": 6,
     "metadata": {},
     "output_type": "execute_result"
    }
   ],
   "source": [
    "table = metrics_table()\n",
    "\n",
    "for (i, fold) in enumerate(transformed_folds):\n",
    "    X_train, X_test, y_train, y_test = split_train_test(fold=fold)\n",
    "    X_train, X_test = combine_ndvi(X_train, X_test, order=i)\n",
    "    \n",
    "    linear_model = LinearRegression(n_jobs=-1).fit(X=X_train, y=y_train)\n",
    "    \n",
    "    row = [MAXIMUM_YEAR - FOLD_NUM + 1 + i]\n",
    "    \n",
    "    row += metrics_calculation(y_actual=y_test, y_pred=linear_model.predict(X_test), y_train=y_train)\n",
    "    \n",
    "    table.loc[len(table)] = row\n",
    "    \n",
    "    del linear_model\n",
    "\n",
    "table\n",
    "    "
   ]
  }
 ],
 "metadata": {
  "kernelspec": {
   "display_name": "base",
   "language": "python",
   "name": "python3"
  },
  "language_info": {
   "codemirror_mode": {
    "name": "ipython",
    "version": 3
   },
   "file_extension": ".py",
   "mimetype": "text/x-python",
   "name": "python",
   "nbconvert_exporter": "python",
   "pygments_lexer": "ipython3",
   "version": "3.11.5"
  }
 },
 "nbformat": 4,
 "nbformat_minor": 2
}
