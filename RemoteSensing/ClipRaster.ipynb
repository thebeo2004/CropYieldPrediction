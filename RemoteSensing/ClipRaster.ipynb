{
 "cells": [
  {
   "cell_type": "code",
   "execution_count": 19,
   "metadata": {},
   "outputs": [],
   "source": [
    "from osgeo import gdal\n",
    "from osgeo import ogr"
   ]
  },
  {
   "cell_type": "code",
   "execution_count": 20,
   "metadata": {},
   "outputs": [],
   "source": [
    "def clip_raster(raster_fname, vector_fname, year, storing_path):\n",
    "    # New filename for the clipped raster\n",
    "    fname_out = storing_path + \"\\\\\" + year + \".tif\"\n",
    "    # Perform the actual clipping\n",
    "    g = gdal.Warp(fname_out, raster_fname, format=\"GTiff\",\n",
    "                  cutlineDSName=vector_fname, cropToCutline=True)\n",
    "\n",
    "    # Return the filename\n",
    "    return fname_out\n"
   ]
  },
  {
   "cell_type": "code",
   "execution_count": 21,
   "metadata": {},
   "outputs": [],
   "source": [
    "provinces = ['Bac_Ninh', 'Ha_Nam', 'Ha_Noi', 'Hai_Duong', 'Hai_Phong', 'Hung_Yen', 'Nam_Dinh', 'Ninh_Binh', 'Quang_Ninh', 'Thai_Binh', 'Vinh_Phuc']\n",
    "\n",
    "vector_fname = \"Data\\Province Shape File\\\\\"\n",
    "\n",
    "raster_fname = \"Data\\Vietnam LandCover (2000 - 2020)\\VLUCD_L1_250m_\"\n",
    "\n",
    "storing_fname = \"Data\\Province LandCover (2000 - 2020)\\\\\""
   ]
  },
  {
   "cell_type": "code",
   "execution_count": null,
   "metadata": {},
   "outputs": [],
   "source": [
    "for province in provinces:\n",
    "    for year in range (2000, 2021):\n",
    "        raster_in = raster_fname + str(year) + \".tif\"\n",
    "        shape_in = vector_fname + province + \".shp\"  \n",
    "        output = storing_fname + province\n",
    "        clip_raster(raster_in, shape_in, str(year), output)"
   ]
  }
 ],
 "metadata": {
  "kernelspec": {
   "display_name": "base",
   "language": "python",
   "name": "python3"
  },
  "language_info": {
   "codemirror_mode": {
    "name": "ipython",
    "version": 3
   },
   "file_extension": ".py",
   "mimetype": "text/x-python",
   "name": "python",
   "nbconvert_exporter": "python",
   "pygments_lexer": "ipython3",
   "version": "3.11.5"
  }
 },
 "nbformat": 4,
 "nbformat_minor": 2
}
