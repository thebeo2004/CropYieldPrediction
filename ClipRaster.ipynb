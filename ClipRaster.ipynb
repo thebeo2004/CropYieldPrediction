{
 "cells": [
  {
   "cell_type": "code",
   "execution_count": 1,
   "metadata": {},
   "outputs": [],
   "source": [
    "from osgeo import gdal\n",
    "from osgeo import ogr"
   ]
  },
  {
   "cell_type": "code",
   "execution_count": 2,
   "metadata": {},
   "outputs": [],
   "source": [
    "def clip_raster(raster_fname, vector_fname, year):\n",
    "    # New filename for the clipped raster\n",
    "    fname_out = year + \".tif\"\n",
    "\n",
    "    # Perform the actual clipping\n",
    "    g = gdal.Warp(fname_out, raster_fname, format=\"GTiff\",\n",
    "                  cutlineDSName=vector_fname, cropToCutline=True)\n",
    "\n",
    "    # Return the filename\n",
    "    return fname_out\n"
   ]
  },
  {
   "cell_type": "code",
   "execution_count": 3,
   "metadata": {},
   "outputs": [],
   "source": [
    "driver = ogr.GetDriverByName('ESRI Shapefile')\n",
    "\n",
    "vector_fname = \"Data\\Province Shape File\\BacNinh.shp\"\n",
    "\n",
    "#the raster_fname is not complete, it needs the term of year to the end.\n",
    "raster_fname = \"Data\\Vietnam LandCover (2000 - 2020)\\VLUCD_L1_250m_\"\n",
    "\n",
    "vector = driver.Open(vector_fname, 0)\n",
    "layer = vector.GetLayer()"
   ]
  },
  {
   "cell_type": "code",
   "execution_count": 4,
   "metadata": {},
   "outputs": [
    {
     "data": {
      "text/plain": [
       "1"
      ]
     },
     "execution_count": 4,
     "metadata": {},
     "output_type": "execute_result"
    }
   ],
   "source": [
    "layer.GetFeatureCount()"
   ]
  },
  {
   "cell_type": "code",
   "execution_count": 5,
   "metadata": {},
   "outputs": [],
   "source": [
    "for year in range(2000, 2021):\n",
    "    raster_fname_tmp = raster_fname + str(year) + \".tif\"\n",
    "    clip_raster(raster_fname_tmp, vector_fname, str(year))\n"
   ]
  },
  {
   "cell_type": "code",
   "execution_count": 6,
   "metadata": {},
   "outputs": [],
   "source": [
    "#Original Code\n",
    "\n",
    "# Loop over all features in the shapefile\n",
    "# for feature in layer:\n",
    "#     #In this case, there are no field call \"id\" -> feature_id = 0, and there is only 1 feature in layer\n",
    "#     feature_id = feature.GetFieldAsInteger(\"id\")\n",
    "#     # print(feature_id)\n",
    "#     clipped_raster_filename = clip_raster(raster_fname, vector_fname, feature_id)\n",
    "#     print(f\"Clipped raster saved as: {clipped_raster_filename}\")\n"
   ]
  }
 ],
 "metadata": {
  "kernelspec": {
   "display_name": "base",
   "language": "python",
   "name": "python3"
  },
  "language_info": {
   "codemirror_mode": {
    "name": "ipython",
    "version": 3
   },
   "file_extension": ".py",
   "mimetype": "text/x-python",
   "name": "python",
   "nbconvert_exporter": "python",
   "pygments_lexer": "ipython3",
   "version": "3.11.5"
  }
 },
 "nbformat": 4,
 "nbformat_minor": 2
}
