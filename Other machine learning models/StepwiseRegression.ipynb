{
 "cells": [
  {
   "cell_type": "code",
   "execution_count": 1,
   "metadata": {},
   "outputs": [],
   "source": [
    "from sklearn.linear_model import LinearRegression \n",
    "from mlxtend.feature_selection import SequentialFeatureSelector\n",
    "from sklearn.metrics import mean_squared_error\n",
    "from TimewiseKfold import *\n",
    "from Metrics import *"
   ]
  },
  {
   "cell_type": "code",
   "execution_count": 2,
   "metadata": {},
   "outputs": [],
   "source": [
    "folds, PROVINCES_NUM = splitting_data(region=2)"
   ]
  },
  {
   "cell_type": "code",
   "execution_count": 3,
   "metadata": {},
   "outputs": [],
   "source": [
    "tscv = TimeSeriesSplit(n_splits=2, test_size=PROVINCES_NUM)\n",
    "\n",
    "def optimally_selected_features(X_train, X_validation, y_train, y_validation):\n",
    "    \n",
    "    selected_features = []\n",
    "    mse = 9999999\n",
    "    \n",
    "    for i in range(1, 75):\n",
    "        sfs = SequentialFeatureSelector(LinearRegression(), k_features=i, forward=True, scoring='neg_mean_squared_error', cv=tscv)\n",
    "        \n",
    "        features = list(sfs.fit(X_train, y_train).k_feature_names_)\n",
    "        \n",
    "        X_train_tmp = X_train[features]\n",
    "        X_validation_tmp = X_validation[features]\n",
    "        \n",
    "        linear_model = LinearRegression().fit(X_train_tmp, y_train)\n",
    "        \n",
    "        mse_tmp = mean_squared_error(y_true=y_validation, y_pred=linear_model.predict(X_validation_tmp))\n",
    "        \n",
    "        if (mse_tmp < mse):\n",
    "            mse = mse_tmp \n",
    "            selected_features = features\n",
    "    \n",
    "    return selected_features\n",
    "    "
   ]
  },
  {
   "cell_type": "code",
   "execution_count": null,
   "metadata": {},
   "outputs": [],
   "source": [
    "table = metrics_table()\n",
    "\n",
    "for (i, fold) in enumerate(folds):\n",
    "    X, X_test, y, y_test = split_train_test(fold=fold)\n",
    "    X_train, X_validation, y_train, y_validation = split_train_validation(X=X, y=y, PROVINCES_NUM=PROVINCES_NUM)\n",
    "    \n",
    "    selected_features = optimally_selected_features(X_train, X_validation, y_train, y_validation)\n",
    "    \n",
    "    print(selected_features)\n",
    "    \n",
    "    X = X[selected_features]\n",
    "    X_test = X_test[selected_features]\n",
    "    \n",
    "    linear_model = LinearRegression().fit(X, y)\n",
    "    \n",
    "    row = [MAXIMUM_YEAR - FOLD_NUM + 1 + i]\n",
    "    \n",
    "    row += metrics_calculation(y_actual=y_test, y_pred=linear_model.predict(X_test), y_train=y)\n",
    "    \n",
    "    table.loc[len(table)] = row\n",
    "    \n",
    "\n",
    "table  "
   ]
  },
  {
   "cell_type": "code",
   "execution_count": 8,
   "metadata": {},
   "outputs": [
    {
     "data": {
      "text/html": [
       "<div>\n",
       "<style scoped>\n",
       "    .dataframe tbody tr th:only-of-type {\n",
       "        vertical-align: middle;\n",
       "    }\n",
       "\n",
       "    .dataframe tbody tr th {\n",
       "        vertical-align: top;\n",
       "    }\n",
       "\n",
       "    .dataframe thead th {\n",
       "        text-align: right;\n",
       "    }\n",
       "</style>\n",
       "<table border=\"1\" class=\"dataframe\">\n",
       "  <thead>\n",
       "    <tr style=\"text-align: right;\">\n",
       "      <th></th>\n",
       "      <th>Year</th>\n",
       "      <th>RMSE</th>\n",
       "      <th>R2_Score</th>\n",
       "      <th>MSE</th>\n",
       "      <th>MAE</th>\n",
       "      <th>RAE</th>\n",
       "      <th>RSE</th>\n",
       "    </tr>\n",
       "  </thead>\n",
       "  <tbody>\n",
       "    <tr>\n",
       "      <th>0</th>\n",
       "      <td>2018.0</td>\n",
       "      <td>1.712589</td>\n",
       "      <td>0.006920</td>\n",
       "      <td>2.932961</td>\n",
       "      <td>1.555816</td>\n",
       "      <td>1.085250</td>\n",
       "      <td>1.080461</td>\n",
       "    </tr>\n",
       "    <tr>\n",
       "      <th>1</th>\n",
       "      <td>2019.0</td>\n",
       "      <td>3.443764</td>\n",
       "      <td>-6.457442</td>\n",
       "      <td>11.859513</td>\n",
       "      <td>2.611549</td>\n",
       "      <td>2.528143</td>\n",
       "      <td>7.496864</td>\n",
       "    </tr>\n",
       "    <tr>\n",
       "      <th>2</th>\n",
       "      <td>2020.0</td>\n",
       "      <td>5.736892</td>\n",
       "      <td>0.083135</td>\n",
       "      <td>32.911927</td>\n",
       "      <td>3.566421</td>\n",
       "      <td>0.960178</td>\n",
       "      <td>1.285276</td>\n",
       "    </tr>\n",
       "  </tbody>\n",
       "</table>\n",
       "</div>"
      ],
      "text/plain": [
       "     Year      RMSE  R2_Score        MSE       MAE       RAE       RSE\n",
       "0  2018.0  1.712589  0.006920   2.932961  1.555816  1.085250  1.080461\n",
       "1  2019.0  3.443764 -6.457442  11.859513  2.611549  2.528143  7.496864\n",
       "2  2020.0  5.736892  0.083135  32.911927  3.566421  0.960178  1.285276"
      ]
     },
     "execution_count": 8,
     "metadata": {},
     "output_type": "execute_result"
    }
   ],
   "source": [
    "table"
   ]
  }
 ],
 "metadata": {
  "kernelspec": {
   "display_name": "base",
   "language": "python",
   "name": "python3"
  },
  "language_info": {
   "codemirror_mode": {
    "name": "ipython",
    "version": 3
   },
   "file_extension": ".py",
   "mimetype": "text/x-python",
   "name": "python",
   "nbconvert_exporter": "python",
   "pygments_lexer": "ipython3",
   "version": "3.11.5"
  }
 },
 "nbformat": 4,
 "nbformat_minor": 2
}
