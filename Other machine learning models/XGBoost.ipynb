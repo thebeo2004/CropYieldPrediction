{
 "cells": [
  {
   "cell_type": "code",
   "execution_count": 1,
   "metadata": {},
   "outputs": [],
   "source": [
    "from xgboost import XGBRegressor\n",
    "from sklearn.model_selection import GridSearchCV, TimeSeriesSplit\n",
    "from Metrics import * \n",
    "from TimewiseKfold import *"
   ]
  },
  {
   "cell_type": "code",
   "execution_count": 2,
   "metadata": {},
   "outputs": [],
   "source": [
    "folds, PROVINCES_NUM = splitting_data(region=2)"
   ]
  },
  {
   "cell_type": "code",
   "execution_count": 3,
   "metadata": {},
   "outputs": [],
   "source": [
    "#how much each tree contributes to the final prediction\n",
    "learning_rate = [0.001, 0.01, 0.05, 0.1, 0.2]\n",
    "#depth of every tree\n",
    "max_depth = [3, 5, 6, 7, 9]\n",
    "#when a node in the will split\n",
    "# gamma = []\n",
    "#the percentage of data that is sampled randomly to grow each tree\n",
    "subsample = [0.5, 0.7, 1]\n",
    "#the percentage of features that will be sampled at random for growing each tree\n",
    "colsample_bytree = []\n",
    "#number of boosting rounds \n",
    "n_estimators = [100, 400, 800]\n",
    "#the minimum amound of data requried to create a new node\n",
    "# min_child_weight = []\n",
    "#the balance of postive and negative weights\n",
    "# scale_pos_weight = []\n",
    "\n",
    "grid = {\n",
    "    'learning_rate': learning_rate,\n",
    "    'max_depth': max_depth,\n",
    "    'subsample': subsample,\n",
    "    'n_estimators': n_estimators\n",
    "}"
   ]
  },
  {
   "cell_type": "code",
   "execution_count": 4,
   "metadata": {},
   "outputs": [
    {
     "data": {
      "text/html": [
       "<div>\n",
       "<style scoped>\n",
       "    .dataframe tbody tr th:only-of-type {\n",
       "        vertical-align: middle;\n",
       "    }\n",
       "\n",
       "    .dataframe tbody tr th {\n",
       "        vertical-align: top;\n",
       "    }\n",
       "\n",
       "    .dataframe thead th {\n",
       "        text-align: right;\n",
       "    }\n",
       "</style>\n",
       "<table border=\"1\" class=\"dataframe\">\n",
       "  <thead>\n",
       "    <tr style=\"text-align: right;\">\n",
       "      <th></th>\n",
       "      <th>Year</th>\n",
       "      <th>RMSE</th>\n",
       "      <th>R2_Score</th>\n",
       "      <th>MSE</th>\n",
       "      <th>MAE</th>\n",
       "      <th>RAE</th>\n",
       "      <th>RSE</th>\n",
       "    </tr>\n",
       "  </thead>\n",
       "  <tbody>\n",
       "    <tr>\n",
       "      <th>0</th>\n",
       "      <td>2018.0</td>\n",
       "      <td>1.631136</td>\n",
       "      <td>0.099138</td>\n",
       "      <td>2.660603</td>\n",
       "      <td>1.428106</td>\n",
       "      <td>0.996167</td>\n",
       "      <td>0.980128</td>\n",
       "    </tr>\n",
       "    <tr>\n",
       "      <th>1</th>\n",
       "      <td>2019.0</td>\n",
       "      <td>1.353223</td>\n",
       "      <td>-0.151494</td>\n",
       "      <td>1.831212</td>\n",
       "      <td>1.268980</td>\n",
       "      <td>1.228452</td>\n",
       "      <td>1.157581</td>\n",
       "    </tr>\n",
       "    <tr>\n",
       "      <th>2</th>\n",
       "      <td>2020.0</td>\n",
       "      <td>6.140903</td>\n",
       "      <td>-0.050549</td>\n",
       "      <td>37.710684</td>\n",
       "      <td>3.695586</td>\n",
       "      <td>0.994953</td>\n",
       "      <td>1.472677</td>\n",
       "    </tr>\n",
       "  </tbody>\n",
       "</table>\n",
       "</div>"
      ],
      "text/plain": [
       "     Year      RMSE  R2_Score        MSE       MAE       RAE       RSE\n",
       "0  2018.0  1.631136  0.099138   2.660603  1.428106  0.996167  0.980128\n",
       "1  2019.0  1.353223 -0.151494   1.831212  1.268980  1.228452  1.157581\n",
       "2  2020.0  6.140903 -0.050549  37.710684  3.695586  0.994953  1.472677"
      ]
     },
     "execution_count": 4,
     "metadata": {},
     "output_type": "execute_result"
    }
   ],
   "source": [
    "table = metrics_table()\n",
    "\n",
    "tscv = TimeSeriesSplit(n_splits=2, test_size=PROVINCES_NUM)\n",
    "\n",
    "for (i, fold) in enumerate(folds):\n",
    "    X_train, X_test, y_train, y_test = split_train_test(fold=fold)\n",
    "    \n",
    "    xgb_model = XGBRegressor()\n",
    "    \n",
    "    grid_search = GridSearchCV(estimator=xgb_model, param_grid=grid, cv=tscv, n_jobs=-1, scoring='r2')\n",
    "    \n",
    "    grid_search.fit(X_train, y_train)\n",
    "    \n",
    "    row = [MAXIMUM_YEAR - FOLD_NUM + 1 + i]\n",
    "    \n",
    "    row += metrics_calculation(y_actual=y_test, y_pred=grid_search.predict(X_test), y_train=y_train)\n",
    "    \n",
    "    table.loc[len(table)] = row\n",
    "    \n",
    "    del xgb_model\n",
    "    del grid_search\n",
    "\n",
    "table  "
   ]
  }
 ],
 "metadata": {
  "kernelspec": {
   "display_name": "base",
   "language": "python",
   "name": "python3"
  },
  "language_info": {
   "codemirror_mode": {
    "name": "ipython",
    "version": 3
   },
   "file_extension": ".py",
   "mimetype": "text/x-python",
   "name": "python",
   "nbconvert_exporter": "python",
   "pygments_lexer": "ipython3",
   "version": "3.11.5"
  }
 },
 "nbformat": 4,
 "nbformat_minor": 2
}
