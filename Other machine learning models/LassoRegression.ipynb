{
 "cells": [
  {
   "cell_type": "code",
   "execution_count": 1,
   "metadata": {},
   "outputs": [],
   "source": [
    "from sklearn.linear_model import LassoCV\n",
    "from TimewiseKfold import splitting_data, split_train_test, FOLD_NUM, MAXIMUM_YEAR\n",
    "from Metrics import metrics_calculation, metrics_table\n",
    "from sklearn.model_selection import TimeSeriesSplit\n",
    "from sklearn.metrics import root_mean_squared_error"
   ]
  },
  {
   "cell_type": "code",
   "execution_count": 2,
   "metadata": {},
   "outputs": [],
   "source": [
    "folds, PROVINCES_NUM = splitting_data(is_scaled=True, region=2)"
   ]
  },
  {
   "cell_type": "code",
   "execution_count": 3,
   "metadata": {},
   "outputs": [
    {
     "name": "stderr",
     "output_type": "stream",
     "text": [
      "c:\\Application\\Anaconda\\Lib\\site-packages\\sklearn\\linear_model\\_coordinate_descent.py:1623: DataConversionWarning: A column-vector y was passed when a 1d array was expected. Please change the shape of y to (n_samples, ), for example using ravel().\n",
      "  y = column_or_1d(y, warn=True)\n",
      "c:\\Application\\Anaconda\\Lib\\site-packages\\sklearn\\linear_model\\_coordinate_descent.py:1623: DataConversionWarning: A column-vector y was passed when a 1d array was expected. Please change the shape of y to (n_samples, ), for example using ravel().\n",
      "  y = column_or_1d(y, warn=True)\n",
      "c:\\Application\\Anaconda\\Lib\\site-packages\\sklearn\\linear_model\\_coordinate_descent.py:1623: DataConversionWarning: A column-vector y was passed when a 1d array was expected. Please change the shape of y to (n_samples, ), for example using ravel().\n",
      "  y = column_or_1d(y, warn=True)\n"
     ]
    }
   ],
   "source": [
    "table = metrics_table()\n",
    "tscv = TimeSeriesSplit(n_splits=2, test_size=PROVINCES_NUM)\n",
    "\n",
    "OwO = []\n",
    "\n",
    "\n",
    "for (i, fold) in enumerate(folds):\n",
    "    X_train, X_test, y_train, y_test = split_train_test(fold=fold)\n",
    "    \n",
    "    lasso_cv = LassoCV(max_iter=5000, n_jobs=-1, cv=tscv)\n",
    "    lasso_cv.fit(X_train, y_train)\n",
    "    \n",
    "    row = [MAXIMUM_YEAR - FOLD_NUM + 1 + i]\n",
    "    \n",
    "    row += metrics_calculation(y_actual=y_test, y_pred=lasso_cv.predict(X_test), y_train=y_train)\n",
    "    \n",
    "    table.loc[len(table)] = row\n",
    "    \n",
    "    del lasso_cv"
   ]
  },
  {
   "cell_type": "code",
   "execution_count": 4,
   "metadata": {},
   "outputs": [
    {
     "data": {
      "text/html": [
       "<div>\n",
       "<style scoped>\n",
       "    .dataframe tbody tr th:only-of-type {\n",
       "        vertical-align: middle;\n",
       "    }\n",
       "\n",
       "    .dataframe tbody tr th {\n",
       "        vertical-align: top;\n",
       "    }\n",
       "\n",
       "    .dataframe thead th {\n",
       "        text-align: right;\n",
       "    }\n",
       "</style>\n",
       "<table border=\"1\" class=\"dataframe\">\n",
       "  <thead>\n",
       "    <tr style=\"text-align: right;\">\n",
       "      <th></th>\n",
       "      <th>Year</th>\n",
       "      <th>RMSE</th>\n",
       "      <th>R2_Score</th>\n",
       "      <th>MSE</th>\n",
       "      <th>MAE</th>\n",
       "      <th>RAE</th>\n",
       "      <th>RSE</th>\n",
       "    </tr>\n",
       "  </thead>\n",
       "  <tbody>\n",
       "    <tr>\n",
       "      <th>0</th>\n",
       "      <td>2018.0</td>\n",
       "      <td>1.718545</td>\n",
       "      <td>0.000000</td>\n",
       "      <td>2.953397</td>\n",
       "      <td>1.348036</td>\n",
       "      <td>0.940315</td>\n",
       "      <td>1.087989</td>\n",
       "    </tr>\n",
       "    <tr>\n",
       "      <th>1</th>\n",
       "      <td>2019.0</td>\n",
       "      <td>2.108387</td>\n",
       "      <td>-1.795269</td>\n",
       "      <td>4.445296</td>\n",
       "      <td>1.786532</td>\n",
       "      <td>1.729474</td>\n",
       "      <td>2.810046</td>\n",
       "    </tr>\n",
       "    <tr>\n",
       "      <th>2</th>\n",
       "      <td>2020.0</td>\n",
       "      <td>5.702741</td>\n",
       "      <td>0.094019</td>\n",
       "      <td>32.521253</td>\n",
       "      <td>3.462315</td>\n",
       "      <td>0.932150</td>\n",
       "      <td>1.270020</td>\n",
       "    </tr>\n",
       "  </tbody>\n",
       "</table>\n",
       "</div>"
      ],
      "text/plain": [
       "     Year      RMSE  R2_Score        MSE       MAE       RAE       RSE\n",
       "0  2018.0  1.718545  0.000000   2.953397  1.348036  0.940315  1.087989\n",
       "1  2019.0  2.108387 -1.795269   4.445296  1.786532  1.729474  2.810046\n",
       "2  2020.0  5.702741  0.094019  32.521253  3.462315  0.932150  1.270020"
      ]
     },
     "execution_count": 4,
     "metadata": {},
     "output_type": "execute_result"
    }
   ],
   "source": [
    "table"
   ]
  }
 ],
 "metadata": {
  "kernelspec": {
   "display_name": "base",
   "language": "python",
   "name": "python3"
  },
  "language_info": {
   "codemirror_mode": {
    "name": "ipython",
    "version": 3
   },
   "file_extension": ".py",
   "mimetype": "text/x-python",
   "name": "python",
   "nbconvert_exporter": "python",
   "pygments_lexer": "ipython3",
   "version": "3.11.5"
  }
 },
 "nbformat": 4,
 "nbformat_minor": 2
}
