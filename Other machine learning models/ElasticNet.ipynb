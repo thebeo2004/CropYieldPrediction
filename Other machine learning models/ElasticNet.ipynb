{
 "cells": [
  {
   "cell_type": "code",
   "execution_count": 1,
   "metadata": {},
   "outputs": [],
   "source": [
    "from sklearn.linear_model import ElasticNet, ElasticNetCV\n",
    "from TimewiseKfold import splitting_data, split_train_test, FOLD_NUM, MAXIMUM_YEAR\n",
    "from Metrics import metrics_calculation, metrics_table\n",
    "from sklearn.model_selection import TimeSeriesSplit\n",
    "from sklearn.metrics import root_mean_squared_error"
   ]
  },
  {
   "cell_type": "code",
   "execution_count": 2,
   "metadata": {},
   "outputs": [],
   "source": [
    "folds, PROVINCES_NUM = splitting_data(region=2)"
   ]
  },
  {
   "cell_type": "code",
   "execution_count": 3,
   "metadata": {},
   "outputs": [
    {
     "name": "stderr",
     "output_type": "stream",
     "text": [
      "c:\\Application\\Anaconda\\Lib\\site-packages\\sklearn\\linear_model\\_coordinate_descent.py:1623: DataConversionWarning: A column-vector y was passed when a 1d array was expected. Please change the shape of y to (n_samples, ), for example using ravel().\n",
      "  y = column_or_1d(y, warn=True)\n",
      "c:\\Application\\Anaconda\\Lib\\site-packages\\sklearn\\linear_model\\_coordinate_descent.py:1623: DataConversionWarning: A column-vector y was passed when a 1d array was expected. Please change the shape of y to (n_samples, ), for example using ravel().\n",
      "  y = column_or_1d(y, warn=True)\n",
      "c:\\Application\\Anaconda\\Lib\\site-packages\\sklearn\\linear_model\\_coordinate_descent.py:1623: DataConversionWarning: A column-vector y was passed when a 1d array was expected. Please change the shape of y to (n_samples, ), for example using ravel().\n",
      "  y = column_or_1d(y, warn=True)\n"
     ]
    }
   ],
   "source": [
    "table = metrics_table()\n",
    "\n",
    "tscv = TimeSeriesSplit(n_splits=2, test_size=PROVINCES_NUM)\n",
    "\n",
    "OwO = []\n",
    "\n",
    "for (i, fold) in enumerate(folds):\n",
    "    X_train, X_test, y_train, y_test = split_train_test(fold=fold)\n",
    "    \n",
    "    elastic_cv = ElasticNetCV(l1_ratio=[0.1, 0.2, 0.3, 0.5, 0.75, 0.9, 0.99, 1], cv=tscv, max_iter=20000, n_jobs=-1)\n",
    "    elastic_cv.fit(X_train, y_train)\n",
    "    \n",
    "    row = [MAXIMUM_YEAR - FOLD_NUM + 1 + i]\n",
    "    \n",
    "    row += metrics_calculation(y_actual=y_test, y_pred=elastic_cv.predict(X_test), y_train=y_train)\n",
    "    \n",
    "    table.loc[len(table)] = row\n",
    "    \n",
    "    del elastic_cv     "
   ]
  },
  {
   "cell_type": "code",
   "execution_count": 4,
   "metadata": {},
   "outputs": [
    {
     "data": {
      "text/html": [
       "<div>\n",
       "<style scoped>\n",
       "    .dataframe tbody tr th:only-of-type {\n",
       "        vertical-align: middle;\n",
       "    }\n",
       "\n",
       "    .dataframe tbody tr th {\n",
       "        vertical-align: top;\n",
       "    }\n",
       "\n",
       "    .dataframe thead th {\n",
       "        text-align: right;\n",
       "    }\n",
       "</style>\n",
       "<table border=\"1\" class=\"dataframe\">\n",
       "  <thead>\n",
       "    <tr style=\"text-align: right;\">\n",
       "      <th></th>\n",
       "      <th>Year</th>\n",
       "      <th>RMSE</th>\n",
       "      <th>R2_Score</th>\n",
       "      <th>MSE</th>\n",
       "      <th>MAE</th>\n",
       "      <th>RAE</th>\n",
       "      <th>RSE</th>\n",
       "    </tr>\n",
       "  </thead>\n",
       "  <tbody>\n",
       "    <tr>\n",
       "      <th>0</th>\n",
       "      <td>2018.0</td>\n",
       "      <td>1.578912</td>\n",
       "      <td>0.155899</td>\n",
       "      <td>2.492965</td>\n",
       "      <td>1.289201</td>\n",
       "      <td>0.899274</td>\n",
       "      <td>0.918372</td>\n",
       "    </tr>\n",
       "    <tr>\n",
       "      <th>1</th>\n",
       "      <td>2019.0</td>\n",
       "      <td>1.251652</td>\n",
       "      <td>0.014877</td>\n",
       "      <td>1.566634</td>\n",
       "      <td>1.111284</td>\n",
       "      <td>1.075792</td>\n",
       "      <td>0.990331</td>\n",
       "    </tr>\n",
       "    <tr>\n",
       "      <th>2</th>\n",
       "      <td>2020.0</td>\n",
       "      <td>5.985223</td>\n",
       "      <td>0.002041</td>\n",
       "      <td>35.822889</td>\n",
       "      <td>3.589632</td>\n",
       "      <td>0.966427</td>\n",
       "      <td>1.398955</td>\n",
       "    </tr>\n",
       "  </tbody>\n",
       "</table>\n",
       "</div>"
      ],
      "text/plain": [
       "     Year      RMSE  R2_Score        MSE       MAE       RAE       RSE\n",
       "0  2018.0  1.578912  0.155899   2.492965  1.289201  0.899274  0.918372\n",
       "1  2019.0  1.251652  0.014877   1.566634  1.111284  1.075792  0.990331\n",
       "2  2020.0  5.985223  0.002041  35.822889  3.589632  0.966427  1.398955"
      ]
     },
     "execution_count": 4,
     "metadata": {},
     "output_type": "execute_result"
    }
   ],
   "source": [
    "table"
   ]
  }
 ],
 "metadata": {
  "kernelspec": {
   "display_name": "base",
   "language": "python",
   "name": "python3"
  },
  "language_info": {
   "codemirror_mode": {
    "name": "ipython",
    "version": 3
   },
   "file_extension": ".py",
   "mimetype": "text/x-python",
   "name": "python",
   "nbconvert_exporter": "python",
   "pygments_lexer": "ipython3",
   "version": "3.11.5"
  }
 },
 "nbformat": 4,
 "nbformat_minor": 2
}
